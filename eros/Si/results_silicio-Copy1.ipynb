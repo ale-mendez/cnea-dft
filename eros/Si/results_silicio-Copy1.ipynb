{
 "cells": [
  {
   "cell_type": "code",
   "execution_count": 8,
   "metadata": {},
   "outputs": [],
   "source": [
    "import numpy as np\n",
    "import matplotlib.pyplot as plt\n",
    "import pandas as pd\n",
    "import matplotlib.ticker as mticker"
   ]
  },
  {
   "cell_type": "code",
   "execution_count": 9,
   "metadata": {},
   "outputs": [],
   "source": [
    "diamante=pd.read_csv(\"diamante/conv_ALAT/volEtot.dat\",sep='\\s+',header=None)\n",
    "diamante.columns=['ALAT','Volumen','Energía total']"
   ]
  },
  {
   "cell_type": "code",
   "execution_count": null,
   "metadata": {},
   "outputs": [],
   "source": []
  },
  {
   "cell_type": "code",
   "execution_count": 10,
   "metadata": {},
   "outputs": [],
   "source": [
    "HCP=pd.read_csv(\"HCP/volEtot.dat\",sep='\\s+',header=None)\n",
    "HCP.columns=['ALAT','Volumen','Energía total']"
   ]
  },
  {
   "cell_type": "code",
   "execution_count": null,
   "metadata": {},
   "outputs": [],
   "source": []
  },
  {
   "cell_type": "code",
   "execution_count": 11,
   "metadata": {},
   "outputs": [],
   "source": [
    "beta_tin=pd.read_csv(\"beta-tin/volEtot.dat\",sep='\\s+',header=None)\n",
    "beta_tin.columns=['ALAT','Volumen','Energía total']"
   ]
  },
  {
   "cell_type": "code",
   "execution_count": null,
   "metadata": {},
   "outputs": [],
   "source": []
  },
  {
   "cell_type": "code",
   "execution_count": null,
   "metadata": {},
   "outputs": [],
   "source": []
  },
  {
   "cell_type": "code",
   "execution_count": 12,
   "metadata": {},
   "outputs": [
    {
     "name": "stdout",
     "output_type": "stream",
     "text": [
      "Parámetros de diamante:\n",
      "E0 = -5.4199\n",
      "B0 = 0.5201\n",
      "V0 = 20.6127\n",
      "B0' = 4.0576\n",
      "\n",
      "Parámetros de HCP:\n",
      "E0 = -4.9420\n",
      "B0 = 0.5907\n",
      "V0 = 14.3801\n",
      "B0' = 4.1513\n",
      "\n",
      "Parámetros de beta-tin:\n",
      "E0 = -5.1687\n",
      "B0 = 0.6886\n",
      "V0 = 15.3618\n",
      "B0' = 3.9779\n"
     ]
    }
   ],
   "source": [
    "from scipy import optimize\n",
    "\n",
    "def Birch_Murnaghan(x, E0, B0, V0, B0p):\n",
    "    C=9./16.\n",
    "    return E0+C*V0*B0*(B0p*((V0/x)**(2/3)-1.0)**3.+((V0/x)**(2./3.)-1.0)**2.*(6.0-4.0*(V0/x)**(2./3.)))\n",
    "\n",
    "x_data=diamante[\"Volumen\"]\n",
    "y_data=diamante[\"Energía total\"]\n",
    "diamparams, diamparams_covariance = optimize.curve_fit(Birch_Murnaghan, x_data, y_data,p0=[1,1,15,1])\n",
    "\n",
    "print(\"Parámetros de diamante:\")\n",
    "print(\"E0 = {:6.4f}\".format(diamparams[0]))\n",
    "print(\"B0 = {:6.4f}\".format(diamparams[1]))\n",
    "print(\"V0 = {:6.4f}\".format(diamparams[2]))\n",
    "print(\"B0' = {:6.4f}\".format(diamparams[3]))\n",
    "\n",
    "x_data=HCP[\"Volumen\"]\n",
    "y_data=HCP[\"Energía total\"]\n",
    "HCPparams, HCPparams_covariance = optimize.curve_fit(Birch_Murnaghan, x_data, y_data,p0=[1,1,15,1])\n",
    "\n",
    "print(\"\\nParámetros de HCP:\")\n",
    "print(\"E0 = {:6.4f}\".format(HCPparams[0]))\n",
    "print(\"B0 = {:6.4f}\".format(HCPparams[1]))\n",
    "print(\"V0 = {:6.4f}\".format(HCPparams[2]))\n",
    "print(\"B0' = {:6.4f}\".format(HCPparams[3]))\n",
    "\n",
    "x_data=beta_tin[\"Volumen\"][:-2]\n",
    "y_data=beta_tin[\"Energía total\"][:-2]\n",
    "BTparams, BTparams_covariance = optimize.curve_fit(Birch_Murnaghan, x_data, y_data,p0=[1,1,15,1])\n",
    "\n",
    "print(\"\\nParámetros de beta-tin:\")\n",
    "print(\"E0 = {:6.4f}\".format(BTparams[0]))\n",
    "print(\"B0 = {:6.4f}\".format(BTparams[1]))\n",
    "print(\"V0 = {:6.4f}\".format(BTparams[2]))\n",
    "print(\"B0' = {:6.4f}\".format(BTparams[3]))"
   ]
  },
  {
   "cell_type": "code",
   "execution_count": 13,
   "metadata": {},
   "outputs": [],
   "source": [
    "plt.rc('text', usetex=True)\n",
    "plt.rc('font', family='serif')\n",
    "plt.rcParams.update({'font.size': 20})\n",
    "\n",
    "npts=100000\n",
    "xfit=np.linspace(5,30,npts)\n",
    "HCP_fit=Birch_Murnaghan(xfit,HCPparams[0],HCPparams[1],HCPparams[2],HCPparams[3])\n",
    "BT_fit=Birch_Murnaghan(xfit,BTparams[0],BTparams[1],BTparams[2],BTparams[3])\n",
    "diam_fit=Birch_Murnaghan(xfit,diamparams[0],diamparams[1],diamparams[2],diamparams[3])"
   ]
  },
  {
   "cell_type": "code",
   "execution_count": 59,
   "metadata": {},
   "outputs": [],
   "source": [
    "fig,axs=plt.subplots(1,3,figsize=(15,5), sharex=True, sharey=True)\n",
    "axs[0].text(25,20,\"(a)\",fontsize=22)\n",
    "axs[0].set_title(r'Diamante')\n",
    "axs[0].plot(diamante[\"Volumen\"][:-2],diamante[\"Energía total\"][:-2],'ko',linestyle='None')\n",
    "axs[0].plot(xfit,diam_fit,'k',linestyle='solid')\n",
    "axs[0].set_ylabel('Energía total (eV)',labelpad=10)\n",
    "axs[0].xaxis.set_major_locator(mticker.MultipleLocator(10));\n",
    "axs[0].xaxis.set_minor_locator(mticker.MultipleLocator(2));\n",
    "axs[0].yaxis.set_major_locator(mticker.MultipleLocator(10));\n",
    "axs[0].yaxis.set_minor_locator(mticker.MultipleLocator(2));\n",
    "axs[0].tick_params(direction='in',which='major',length=8,bottom=True, top=True, left=True, right=True);\n",
    "axs[0].tick_params(direction='in',which='minor',length=5,bottom=True, top=True, left=True, right=True);\n",
    "\n",
    "axs[1].set_title(r'HCP')\n",
    "axs[1].text(25,20,\"(b)\",fontsize=22)\n",
    "axs[1].plot(HCP[\"Volumen\"],HCP[\"Energía total\"],'ro',linestyle='None')\n",
    "axs[1].plot(xfit,HCP_fit,'r',linestyle='solid')\n",
    "axs[1].set_xlabel(r'Volumen (\\AA$^3$)',labelpad=10)\n",
    "axs[1].xaxis.set_major_locator(mticker.MultipleLocator(10));\n",
    "axs[1].xaxis.set_minor_locator(mticker.MultipleLocator(2));\n",
    "axs[1].yaxis.set_major_locator(mticker.MultipleLocator(10));\n",
    "axs[1].yaxis.set_minor_locator(mticker.MultipleLocator(2));\n",
    "axs[1].tick_params(direction='in',which='major',length=8,bottom=True, top=True, left=True, right=True);\n",
    "axs[1].tick_params(direction='in',which='minor',length=5,bottom=True, top=True, left=True, right=True);\n",
    "    \n",
    "axs[2].set_title(r'$\\beta$-tin')\n",
    "axs[2].text(25,20,\"(c)\",fontsize=22)\n",
    "axs[2].plot(beta_tin[\"Volumen\"][:-2],beta_tin[\"Energía total\"][:-2],'go',linestyle='None')\n",
    "axs[2].xaxis.set_major_locator(mticker.MultipleLocator(10));\n",
    "axs[2].xaxis.set_minor_locator(mticker.MultipleLocator(2));\n",
    "axs[2].yaxis.set_major_locator(mticker.MultipleLocator(10));\n",
    "axs[2].yaxis.set_minor_locator(mticker.MultipleLocator(2));\n",
    "axs[2].tick_params(direction='in',which='major',length=8,bottom=True, top=True, left=True, right=True);\n",
    "axs[2].tick_params(direction='in',which='minor',length=5,bottom=True, top=True, left=True, right=True);\n",
    "axs[2].plot(xfit,BT_fit,'g',linestyle='solid')\n",
    "\n",
    "plt.tight_layout()\n",
    "plt.savefig(\"punto5.eps\",bbox_inches='tight')\n",
    "plt.show()"
   ]
  },
  {
   "cell_type": "code",
   "execution_count": 20,
   "metadata": {},
   "outputs": [
    {
     "data": {
      "image/png": "[encoded data removed]",
      "text/plain": [
       "<Figure size 360x360 with 1 Axes>"
      ]
     },
     "metadata": {
      "needs_background": "light"
     },
     "output_type": "display_data"
    }
   ],
   "source": [
    "fig=plt.figure(figsize=(5,5))\n",
    "ax=plt.subplot(111)\n",
    "plt.plot(xfit,diam_fit,'k',linestyle='solid',label='diamante')\n",
    "plt.plot(xfit,BT_fit,'r',linestyle='solid',label=r'$\\beta$-tin')\n",
    "plt.legend(bbox_to_anchor=(0.95, 0.95), loc='upper right', borderaxespad=0.)\n",
    "plt.ylabel('Energía de Gibbs (eV)',labelpad=10)\n",
    "plt.xlabel(r'Volumen (\\AA$^3$)',labelpad=10)\n",
    "ax.xaxis.set_major_locator(mticker.MultipleLocator(10));\n",
    "ax.xaxis.set_minor_locator(mticker.MultipleLocator(2));\n",
    "ax.yaxis.set_major_locator(mticker.MultipleLocator(10));\n",
    "ax.yaxis.set_minor_locator(mticker.MultipleLocator(2));\n",
    "ax.tick_params(direction='in',which='major',length=8,bottom=True, top=True, left=True, right=True);\n",
    "ax.tick_params(direction='in',which='minor',length=5,bottom=True, top=True, left=True, right=True);\n",
    "plt.savefig(\"punto6.eps\",bbox_inches='tight')\n",
    "plt.show()"
   ]
  },
  {
   "cell_type": "code",
   "execution_count": 16,
   "metadata": {},
   "outputs": [],
   "source": [
    "plt.rc('text', usetex=True)\n",
    "plt.rc('font', family='serif')\n",
    "plt.rcParams.update({'font.size': 20})"
   ]
  },
  {
   "cell_type": "code",
   "execution_count": 17,
   "metadata": {},
   "outputs": [
    {
     "data": {
      "image/png": "[encoded data removed]",
      "text/plain": [
       "<Figure size 360x360 with 1 Axes>"
      ]
     },
     "metadata": {
      "needs_background": "light"
     },
     "output_type": "display_data"
    }
   ],
   "source": [
    "fig=plt.figure(figsize=(5,5))\n",
    "ax=plt.subplot(111)\n",
    "plt.plot(xfit,diam_fit+diam_fit*xfit,'k',linestyle='solid',label='diamante')\n",
    "plt.plot(xfit,BT_fit+BT_fit*xfit,'r',linestyle='solid',label=r'$\\beta$-tin')\n",
    "plt.legend(bbox_to_anchor=(0.95, 0.95), loc='upper right', borderaxespad=0.)\n",
    "plt.ylabel('Energía de Gibbs (eV)',labelpad=10)\n",
    "plt.xlabel(r'Volumen (\\AA$^3$)',labelpad=10)\n",
    "ax.xaxis.set_major_locator(mticker.MultipleLocator(10));\n",
    "ax.xaxis.set_minor_locator(mticker.MultipleLocator(2));\n",
    "ax.yaxis.set_major_locator(mticker.MultipleLocator(100));\n",
    "ax.yaxis.set_minor_locator(mticker.MultipleLocator(20));\n",
    "ax.tick_params(direction='in',which='major',length=8,bottom=True, top=True, left=True, right=True);\n",
    "ax.tick_params(direction='in',which='minor',length=5,bottom=True, top=True, left=True, right=True);\n",
    "plt.savefig(\"punto6.eps\",bbox_inches='tight')\n",
    "plt.show()"
   ]
  },
  {
   "cell_type": "code",
   "execution_count": null,
   "metadata": {},
   "outputs": [],
   "source": []
  },
  {
   "cell_type": "code",
   "execution_count": 70,
   "metadata": {},
   "outputs": [
    {
     "name": "stdout",
     "output_type": "stream",
     "text": [
      "\n",
      "####  ftol=1e-08, xtol=1e-08, gtol=1e-08  #####\n",
      "\n",
      "result =   active_mask: array([0, 0])\n",
      "        cost: 8.959480810814059e-17\n",
      "         fun: array([ 4.73498168e-09, -1.25207653e-08])\n",
      "        grad: array([-7.69534462e-10,  4.27627307e-11])\n",
      "         jac: array([[-0.03618216,  0.05925315],\n",
      "       [ 0.04777764,  0.01899244]])\n",
      "     message: '`gtol` termination condition is satisfied.'\n",
      "        nfev: 9\n",
      "        njev: 9\n",
      "  optimality: 2.187071092892925e-09\n",
      "      status: 1\n",
      "     success: True\n",
      "           x: array([19.15792963, 14.5073539 ])\n",
      "result.x =  [19.15792963 14.5073539 ]\n",
      "\n",
      "\n",
      "\n",
      "slope_common_tangent =  4969.265564720573\n",
      "Using matplotlib backend: Qt5Agg\n"
     ]
    }
   ],
   "source": [
    "import numpy as np\n",
    "from scipy.optimize import curve_fit\n",
    "import matplotlib.pyplot as plt\n",
    "from matplotlib.font_manager import FontProperties\n",
    "import sys\n",
    "from sympy import *\n",
    "import sympy as sym\n",
    "import os\n",
    "import pickle as pl\n",
    "\n",
    "\n",
    "# Intial candidates for fit, per FU: - thus, the E vs V input data has to be per FU\n",
    "E0_init = -5.4199\n",
    "V0_init = 20.6127\n",
    "B0_init = 0.5201\n",
    "B0_prime_init = 4.0576\n",
    "\n",
    "\n",
    "def BM(x, a, b, c, d):\n",
    "         return  a + b*x + c*x**2 + d*x**3 \n",
    "\n",
    "def devBM(x, b, c, d):\n",
    "         return  b + 2*c*x + 3*d*x**2 \n",
    "    \n",
    "    \n",
    "def fdiam_p(x):\n",
    "    y=60.4416106992898*(-30.0711369976133*(1/x)**0.666666666666667 + 6.0)*(7.51778424940333*(1/x)**0.666666666666667 - 1.0)**1.0*(1/x)**0.666666666666667/x + 246.990115799413*(7.51778424940333*(1/x)**0.666666666666667 - 1.0)**2.0*(1/x)**0.666666666666667/x\n",
    "    return y\n",
    "\n",
    "def fbeta_p(x):\n",
    "    y=49.0293439913502*(-24.7184631496109*(1/x)**0.666666666666667 + 6.0)*(6.17961578740273*(1/x)**0.666666666666667 - 1.0)**1.0*(1/x)**0.666666666666667/x + 194.491709063869*(6.17961578740273*(1/x)**0.666666666666667 - 1.0)**2.0*(1/x)**0.666666666666667/x\n",
    "    return y\n",
    "\n",
    "# Data 1 (Red triangles): \n",
    "V_C_I= diamante[\"Volumen\"].values\n",
    "E_C_I = diamante[\"Energía total\"].values\n",
    "\n",
    "# Data 14 (Empty grey triangles):\n",
    "V_14=beta_tin[\"Volumen\"].values\n",
    "E_14=beta_tin[\"Energía total\"].values\n",
    "\n",
    "init_vals = [E0_init, V0_init, B0_init, B0_prime_init]\n",
    "# popt_C_I, pcov_C_I = curve_fit(BM, V_C_I, E_C_I, p0=init_vals)\n",
    "popt_C_I, pcov_C_I = optimize.curve_fit(Birch_Murnaghan, x_data, y_data,p0=[1,1,15,1])\n",
    "# popt_14, pcov_14 = curve_fit(BM, V_14, E_14, p0=init_vals)\n",
    "popt_14, pcov_14 = optimize.curve_fit(Birch_Murnaghan, x_data, y_data,p0=[1,1,15,1])\n",
    "\n",
    "\n",
    "def equations(p):\n",
    "    x1, x2 = p\n",
    "    E1 = fdiam_p(x1) - fbeta_p(x2)\n",
    "    E2 = ((Birch_Murnaghan(x1, popt_C_I[0], popt_C_I[1], popt_C_I[2], popt_C_I[3])- Birch_Murnaghan(x2, popt_14[0], popt_14[1], popt_14[2], popt_14[3])) / (x1 - x2))  - fdiam_p(x1)\n",
    "    return (E1, E2)\n",
    "\n",
    "from scipy.optimize import least_squares\n",
    "lb = (10, 12)   # lower bounds on x1, x2\n",
    "ub = (22, 21.0)   # upper bounds\n",
    "result = least_squares(equations, [10,21], bounds=(lb, ub))\n",
    "result_tight_tols = least_squares(equations, [10,21], ftol=1e-12, xtol=1e-12, gtol=1e-12, bounds=(lb, ub))\n",
    "\n",
    "print( \"\"\"\n",
    "####  ftol=1e-08, xtol=1e-08, gtol=1e-08  #####\n",
    "\"\"\")\n",
    "print('result = ', result)\n",
    "print( 'result.x = ', result.x)\n",
    "print( \"\"\"\n",
    "\n",
    "\"\"\")\n",
    "x1 = result.x[0]\n",
    "x2 = result.x[1]\n",
    "\n",
    "slope_common_tangent = devBM(x1, popt_C_I[1], popt_C_I[2], popt_C_I[3])\n",
    "print ('slope_common_tangent = ', slope_common_tangent)\n",
    "\n",
    "def comm_tangent(x, x1, slope_common_tangent):\n",
    "    return BM(x1, popt_C_I[0], popt_C_I[1], popt_C_I[2], popt_C_I[3]) - slope_common_tangent * x1 + slope_common_tangent * x\n",
    "\n",
    "# Linspace for plotting the fitting curves:\n",
    "V_C_I_lin = np.linspace(V_C_I[0]-2, V_C_I[-1], 10000)\n",
    "V_14_lin = np.linspace(V_14[0], V_14[-1]+2, 10000)\n",
    "\n",
    "%matplotlib auto\n",
    "plt.figure()\n",
    "\n",
    "# Plotting the fitting curves:\n",
    "p2, = plt.plot(V_C_I_lin, BM(V_C_I_lin, *popt_C_I), color='black' )\n",
    "p6, = plt.plot(V_14_lin, BM(V_14_lin, *popt_14), 'b' )\n",
    "\n",
    "xp = np.linspace(10,20,100)\n",
    "pcomm_tangent, = plt.plot(xp, comm_tangent(xp, x1, slope_common_tangent), 'green', label='Common tangent')\n",
    "\n",
    "# Plotting the scattered points: \n",
    "p1 = plt.scatter(V_C_I, E_C_I, color='red', marker=\"^\", label='1', s=100)\n",
    "p5 = plt.scatter(V_14, E_14, color='grey', marker=\"^\", facecolors='none', label='2', s=100)\n",
    "\n",
    "fontP = FontProperties()\n",
    "fontP.set_size('13')\n",
    "\n",
    "plt.legend((p1, p2, p5, p6, pcomm_tangent), (\"1\", \"Cubic fit 1\", \"2\", 'Cubic fit 2', 'Common tangent'), prop=fontP)\n",
    "#lt.title('Least squares. Default tolerances: ftol=1e-08, xtol=1e-08, gtol=1e-08')\n",
    "\n",
    "plt.ticklabel_format(useOffset=False)\n"
   ]
  },
  {
   "cell_type": "code",
   "execution_count": null,
   "metadata": {},
   "outputs": [],
   "source": []
  },
  {
   "cell_type": "code",
   "execution_count": 64,
   "metadata": {},
   "outputs": [
    {
     "name": "stdout",
     "output_type": "stream",
     "text": [
      "\n",
      "####  ftol=1e-12, xtol=1e-12, gtol=1e-12  #####\n",
      "\n",
      "result_tight_tols =   active_mask: array([0, 0])\n",
      "        cost: 1.7796555651110253e-30\n",
      "         fun: array([-2.22044605e-16,  1.87350135e-15])\n",
      "        grad: array([-1.04858879e-16,  1.77870461e-17])\n",
      "         jac: array([[ 5.00389338e-02, -8.01057947e-02],\n",
      "       [-5.00389305e-02, -7.16396176e-09]])\n",
      "     message: '`gtol` termination condition is satisfied.'\n",
      "        nfev: 10\n",
      "        njev: 10\n",
      "  optimality: 2.1070119339474007e-16\n",
      "      status: 1\n",
      "     success: True\n",
      "           x: array([19.99062135, 15.60012644])\n",
      "result_tight_tols.x =  [19.99062135 15.60012644]\n",
      "\n",
      "\n",
      "\n",
      "slope_common_tangent =  -0.03813165651080053\n"
     ]
    },
    {
     "data": {
      "text/plain": [
       "Text(0.5, 1.0, 'Lest Squares. Tightening tolerances: ftol=1e-12, xtol=1e-12, gtol=1e-12')"
      ]
     },
     "execution_count": 64,
     "metadata": {},
     "output_type": "execute_result"
    }
   ],
   "source": [
    "### Tighter tolerances:\n",
    "print (\"\"\"\n",
    "####  ftol=1e-12, xtol=1e-12, gtol=1e-12  #####\n",
    "\"\"\")\n",
    "print( 'result_tight_tols = ', result_tight_tols)\n",
    "print( 'result_tight_tols.x = ', result_tight_tols.x)\n",
    "print( \"\"\"\n",
    "\n",
    "\"\"\")\n",
    "x1 = result_tight_tols.x[0]\n",
    "x2 = result_tight_tols.x[1]\n",
    "\n",
    "slope_common_tangent = devBM(x1, popt_C_I[1], popt_C_I[2], popt_C_I[3])\n",
    "print( 'slope_common_tangent = ', slope_common_tangent)\n",
    "\n",
    "def comm_tangent(x, x1, slope_common_tangent):\n",
    "    return BM(x1, popt_C_I[0], popt_C_I[1], popt_C_I[2], popt_C_I[3]) - slope_common_tangent * x1 + slope_common_tangent * x\n",
    "\n",
    "# Linspace for plotting the fitting curves:\n",
    "V_C_I_lin = np.linspace(V_C_I[0]-2, V_C_I[-1], 10000)\n",
    "V_14_lin = np.linspace(V_14[0], V_14[-1]+2, 10000)\n",
    "\n",
    "\n",
    "plt.figure()\n",
    "\n",
    "# Plotting the fitting curves:\n",
    "p2, = plt.plot(V_C_I_lin, BM(V_C_I_lin, *popt_C_I), color='black' )\n",
    "p6, = plt.plot(V_14_lin, BM(V_14_lin, *popt_14), 'b' )\n",
    "\n",
    "# xp = np.linspace(54, 68, 100)\n",
    "pcomm_tangent, = plt.plot(xp, comm_tangent(xp, x1, slope_common_tangent), 'green', label='Common tangent')\n",
    "\n",
    "# Plotting the scattered points: \n",
    "p1 = plt.scatter(V_C_I, E_C_I, color='red', marker=\"^\", label='1', s=100)\n",
    "p5 = plt.scatter(V_14, E_14, color='grey', marker=\"^\", facecolors='none', label='2', s=100)\n",
    "\n",
    "fontP = FontProperties()\n",
    "fontP.set_size('13')\n",
    "\n",
    "plt.legend((p1, p2, p5, p6, pcomm_tangent), (\"1\", \"Cubic fit 1\", \"2\", 'Cubic fit 2', 'Common tangent'), prop=fontP)\n",
    "plt.title('ftol=1e-08, xtol=1e-08, gtol=1e-08')\n",
    "\n",
    "plt.ticklabel_format(useOffset=False)\n",
    "\n",
    "plt.title('Lest Squares. Tightening tolerances: ftol=1e-12, xtol=1e-12, gtol=1e-12')"
   ]
  },
  {
   "cell_type": "code",
   "execution_count": 63,
   "metadata": {},
   "outputs": [
    {
     "name": "stdout",
     "output_type": "stream",
     "text": [
      "\n",
      "#### Using `fsolve`, but restricting the region:  ####\n",
      "\n",
      "\n",
      "x1 =  19.62519019090668\n",
      "x2 =  25.890907950106513\n",
      "slope_common_tangent =  -0.0569162006514512\n"
     ]
    },
    {
     "name": "stderr",
     "output_type": "stream",
     "text": [
      "/home/ale/anaconda3/lib/python3.7/site-packages/scipy/optimize/minpack.py:162: RuntimeWarning: The iteration is not making good progress, as measured by the \n",
      "  improvement from the last ten iterations.\n",
      "  warnings.warn(msg, RuntimeWarning)\n"
     ]
    }
   ],
   "source": [
    "print(\"\"\"\n",
    "#### Using `fsolve`, but restricting the region:  ####\n",
    "\n",
    "\"\"\")\n",
    "\n",
    "from scipy.optimize import fsolve\n",
    "x1, x2 =  fsolve(equations, (61.5, 62))\n",
    "\n",
    "print('x1 = ', x1)\n",
    "print('x2 = ', x2)\n",
    "\n",
    "slope_common_tangent = devBM(x1, popt_C_I[1], popt_C_I[2], popt_C_I[3])\n",
    "print('slope_common_tangent = ', slope_common_tangent)\n",
    "\n",
    "plt.figure()\n",
    "\n",
    "# Plotting the fitting curves:\n",
    "p2, = plt.plot(V_C_I_lin, BM(V_C_I_lin, *popt_C_I), color='black' )\n",
    "p6, = plt.plot(V_14_lin, BM(V_14_lin, *popt_14), 'b' )\n",
    "\n",
    "# xp = np.linspace(54, 68, 100)\n",
    "pcomm_tangent, = plt.plot(xp, comm_tangent(xp, x1, slope_common_tangent), 'green', label='Common tangent')\n",
    "\n",
    "# Plotting the scattered points: \n",
    "p1 = plt.scatter(V_C_I, E_C_I, color='red', marker=\"^\", label='1', s=100)\n",
    "p5 = plt.scatter(V_14, E_14, color='grey', marker=\"^\", facecolors='none', label='2', s=100)\n",
    "\n",
    "fontP = FontProperties()\n",
    "fontP.set_size('13')\n",
    "\n",
    "plt.legend((p1, p2, p5, p6, pcomm_tangent), (\"1\", \"Cubic fit 1\", \"2\", 'Cubic fit 2', 'Common tangent'), prop=fontP)\n",
    "plt.ticklabel_format(useOffset=False)\n",
    "\n",
    "plt.title('Using `fsolve`, but restricting the region')\n",
    "\n",
    "\n",
    "\n",
    "plt.show()"
   ]
  },
  {
   "cell_type": "code",
   "execution_count": null,
   "metadata": {},
   "outputs": [],
   "source": []
  },
  {
   "cell_type": "code",
   "execution_count": null,
   "metadata": {},
   "outputs": [],
   "source": []
  },
  {
   "cell_type": "code",
   "execution_count": 185,
   "metadata": {},
   "outputs": [],
   "source": [
    "import sympy as sym\n",
    "from sympy import Symbol\n",
    "from sympy.solvers import solve"
   ]
  },
  {
   "cell_type": "code",
   "execution_count": 267,
   "metadata": {},
   "outputs": [],
   "source": [
    "x=Symbol('x')\n",
    "fdiam=Birch_Murnaghan(x,diamparams[0],diamparams[1],diamparams[2],diamparams[3])\n",
    "fdiam_prime=-fdiam.diff(x)\n",
    "fbeta=Birch_Murnaghan(x,BTparams[0],BTparams[1],BTparams[2],BTparams[3])\n",
    "fbeta_prime=-fbeta.diff(x)\n",
    "gdiam=fdiam+fdiam_prime*x\n",
    "gbeta=fbeta+fbeta_prime*x"
   ]
  },
  {
   "cell_type": "code",
   "execution_count": 186,
   "metadata": {},
   "outputs": [
    {
     "data": {
      "text/plain": [
       "(-1817.54795569475*(1/x)**0.666666666666667 + 362.649664195739)*(7.51778424940333*(1/x)**0.666666666666667 - 1.0)**1.0*(1/x)**0.666666666666667 + (-181.324832097869*(1/x)**0.666666666666667 + 36.1791771516177)*(7.51778424940333*(1/x)**0.666666666666667 - 1.0)**2.0 + 246.990115799413*(7.51778424940333*(1/x)**0.666666666666667 - 1.0)**2.0*(1/x)**0.666666666666667 + 24.4668724848808*(7.51778424940333*(1/x)**0.666666666666667 - 1.0)**3.0 - 5.41994731532317"
      ]
     },
     "execution_count": 186,
     "metadata": {},
     "output_type": "execute_result"
    }
   ],
   "source": [
    "sym.simplify(gdiam)"
   ]
  },
  {
   "cell_type": "code",
   "execution_count": 272,
   "metadata": {},
   "outputs": [
    {
     "data": {
      "text/plain": [
       "49.0293439913502*(-24.7184631496109*(1/x)**0.666666666666667 + 6.0)*(6.17961578740273*(1/x)**0.666666666666667 - 1.0)**1.0*(1/x)**0.666666666666667/x + 194.491709063869*(6.17961578740273*(1/x)**0.666666666666667 - 1.0)**2.0*(1/x)**0.666666666666667/x"
      ]
     },
     "execution_count": 272,
     "metadata": {},
     "output_type": "execute_result"
    }
   ],
   "source": [
    "fbeta_prime"
   ]
  },
  {
   "cell_type": "code",
   "execution_count": 269,
   "metadata": {},
   "outputs": [],
   "source": [
    "def fdiam_p(x):\n",
    "    return 60.4416106992898*(-30.0711369976133*(1/x)**0.666666666666667 + 6.0)*(7.51778424940333*(1/x)**0.666666666666667 - 1.0)**1.0*(1/x)**0.666666666666667/x + 246.990115799413*(7.51778424940333*(1/x)**0.666666666666667 - 1.0)**2.0*(1/x)**0.666666666666667/x"
   ]
  },
  {
   "cell_type": "code",
   "execution_count": 270,
   "metadata": {},
   "outputs": [
    {
     "data": {
      "text/plain": [
       "0.17156403239418191"
      ]
     },
     "execution_count": 270,
     "metadata": {},
     "output_type": "execute_result"
    }
   ],
   "source": [
    "fdiam_p(16.6482)"
   ]
  },
  {
   "cell_type": "code",
   "execution_count": 273,
   "metadata": {},
   "outputs": [],
   "source": [
    "def fbeta_p(x):\n",
    "    return 49.0293439913502*(-24.7184631496109*(1/x)**0.666666666666667 + 6.0)*(6.17961578740273*(1/x)**0.666666666666667 - 1.0)**1.0*(1/x)**0.666666666666667/x + 194.491709063869*(6.17961578740273*(1/x)**0.666666666666667 - 1.0)**2.0*(1/x)**0.666666666666667/x"
   ]
  },
  {
   "cell_type": "code",
   "execution_count": 274,
   "metadata": {},
   "outputs": [
    {
     "data": {
      "text/plain": [
       "-0.04719779298523407"
      ]
     },
     "execution_count": 274,
     "metadata": {},
     "output_type": "execute_result"
    }
   ],
   "source": [
    "fbeta_p(16.6482)"
   ]
  },
  {
   "cell_type": "code",
   "execution_count": null,
   "metadata": {},
   "outputs": [],
   "source": []
  },
  {
   "cell_type": "code",
   "execution_count": null,
   "metadata": {},
   "outputs": [],
   "source": []
  },
  {
   "cell_type": "code",
   "execution_count": null,
   "metadata": {},
   "outputs": [],
   "source": []
  },
  {
   "cell_type": "code",
   "execution_count": 193,
   "metadata": {},
   "outputs": [
    {
     "data": {
      "text/plain": [
       "-x*(60.4416106992898*(-30.0711369976133*(1/x)**0.666666666666667 + 6.0)*(7.51778424940333*(1/x)**0.666666666666667 - 1.0)**1.0*(1/x)**0.666666666666667/x + 246.990115799413*(7.51778424940333*(1/x)**0.666666666666667 - 1.0)**2.0*(1/x)**0.666666666666667/x) + 6.02986285860294*(-30.0711369976133*(1/x)**0.666666666666667 + 6.0)*(7.51778424940333*(1/x)**0.666666666666667 - 1.0)**2.0 + 24.4668724848808*(7.51778424940333*(1/x)**0.666666666666667 - 1.0)**3.0 - 5.41994731532317"
      ]
     },
     "execution_count": 193,
     "metadata": {},
     "output_type": "execute_result"
    }
   ],
   "source": [
    "fdiam-fdiam_prime*x"
   ]
  },
  {
   "cell_type": "code",
   "execution_count": null,
   "metadata": {},
   "outputs": [],
   "source": []
  },
  {
   "cell_type": "code",
   "execution_count": 110,
   "metadata": {},
   "outputs": [],
   "source": [
    "def P_diam(x):\n",
    "    y=-60.4416106992898*(-30.0711369976133*(1/x)**0.666666666666667 + 6.0)*(7.51778424940333*(1/x)**0.666666666666667 - 1.0)**1.0*(1/x)**0.666666666666667/x - 246.990115799413*(7.51778424940333*(1/x)**0.666666666666667 - 1.0)**2.0*(1/x)**0.666666666666667/x\n",
    "    return -y\n",
    "\n",
    "def P_beta(x):\n",
    "    y=-49.0293439913502*(-24.7184631496109*(1/x)**0.666666666666667 + 6.0)*(6.17961578740273*(1/x)**0.666666666666667 - 1.0)**1.0*(1/x)**0.666666666666667/x - 194.491709063869*(6.17961578740273*(1/x)**0.666666666666667 - 1.0)**2.0*(1/x)**0.666666666666667/x\n",
    "    return -y"
   ]
  },
  {
   "cell_type": "code",
   "execution_count": null,
   "metadata": {},
   "outputs": [],
   "source": []
  },
  {
   "cell_type": "code",
   "execution_count": 194,
   "metadata": {},
   "outputs": [],
   "source": [
    "def G_diam(x):\n",
    "    return -x*(60.4416106992898*(-30.0711369976133*(1/x)**0.666666666666667 + 6.0)*(7.51778424940333*(1/x)**0.666666666666667 - 1.0)**1.0*(1/x)**0.666666666666667/x + 246.990115799413*(7.51778424940333*(1/x)**0.666666666666667 - 1.0)**2.0*(1/x)**0.666666666666667/x) + 6.02986285860294*(-30.0711369976133*(1/x)**0.666666666666667 + 6.0)*(7.51778424940333*(1/x)**0.666666666666667 - 1.0)**2.0 + 24.4668724848808*(7.51778424940333*(1/x)**0.666666666666667 - 1.0)**3.0 - 5.41994731532317"
   ]
  },
  {
   "cell_type": "code",
   "execution_count": 266,
   "metadata": {},
   "outputs": [
    {
     "data": {
      "image/png": "[encoded data removed]",
      "text/plain": [
       "<Figure size 360x360 with 1 Axes>"
      ]
     },
     "metadata": {
      "needs_background": "light"
     },
     "output_type": "display_data"
    }
   ],
   "source": [
    "%matplotlib inline\n",
    "fig=plt.figure(figsize=(5,5))\n",
    "ax=plt.subplot(111)\n",
    "plt.plot(xfit,diam_fit+diam_fit*xfit,'k',linestyle='solid',label='diamante')\n",
    "# plt.plot(xfit,diam_fit+diam_fit*xfit,'k',linestyle='solid',label='diamante')\n",
    "plt.plot(xfit,BT_fit+BT_fit*xfit,'r',linestyle='solid',label=r'$\\beta$-tin')\n",
    "plt.legend(bbox_to_anchor=(0.95, 0.95), loc='upper right', borderaxespad=0.)\n",
    "plt.ylabel('Energía de Gibbs (eV)',labelpad=10)\n",
    "plt.xlabel(r'Volumen (\\AA$^3$)',labelpad=10)\n",
    "ax.xaxis.set_major_locator(mticker.MultipleLocator(10));\n",
    "ax.xaxis.set_minor_locator(mticker.MultipleLocator(2));\n",
    "ax.yaxis.set_major_locator(mticker.MultipleLocator(100));\n",
    "ax.yaxis.set_minor_locator(mticker.MultipleLocator(20));\n",
    "ax.tick_params(direction='in',which='major',length=8,bottom=True, top=True, left=True, right=True);\n",
    "ax.tick_params(direction='in',which='minor',length=5,bottom=True, top=True, left=True, right=True);\n",
    "plt.savefig(\"punto6.eps\",bbox_inches='tight')\n",
    "plt.show()"
   ]
  },
  {
   "cell_type": "code",
   "execution_count": 220,
   "metadata": {},
   "outputs": [],
   "source": [
    "eps=diam_fit+diam_fit*xfit-(BT_fit+BT_fit*xfit)"
   ]
  },
  {
   "cell_type": "code",
   "execution_count": 221,
   "metadata": {},
   "outputs": [
    {
     "name": "stdout",
     "output_type": "stream",
     "text": [
      "16.648116481164813\n",
      "16.648366483664837\n"
     ]
    }
   ],
   "source": [
    "for i in range(npts):\n",
    "    if (eps[i] < 0.001) & (eps[i]>-0.001):\n",
    "        print(xfit[i])"
   ]
  },
  {
   "cell_type": "code",
   "execution_count": 210,
   "metadata": {},
   "outputs": [
    {
     "name": "stdout",
     "output_type": "stream",
     "text": [
      "Using matplotlib backend: Qt5Agg\n"
     ]
    }
   ],
   "source": [
    "%matplotlib auto\n",
    "plt.plot(xfit,eps)\n",
    "plt.show()"
   ]
  },
  {
   "cell_type": "code",
   "execution_count": null,
   "metadata": {},
   "outputs": [],
   "source": []
  },
  {
   "cell_type": "code",
   "execution_count": null,
   "metadata": {},
   "outputs": [],
   "source": []
  },
  {
   "cell_type": "code",
   "execution_count": 230,
   "metadata": {},
   "outputs": [],
   "source": [
    "x=Symbol('x')\n",
    "E0D=Symbol('E0D')\n",
    "B0D=Symbol('B0D')\n",
    "V0D=Symbol('V0D')\n",
    "B0pD=Symbol('B0pD')\n",
    "E0b=Symbol('E0b')\n",
    "B0b=Symbol('B0b')\n",
    "V0b=Symbol('V0b')\n",
    "B0pb=Symbol('B0pb')\n",
    "Ediam=Birch_Murnaghan(x,E0D,B0D,V0D,B0pD)\n",
    "dEdiam=-Ediam.diff(x)\n",
    "Ebeta=Birch_Murnaghan(x,E0b,B0b,V0b,B0pb)\n",
    "dEbeta=-Ebeta.diff(x)\n",
    "fgdiam=Ediam+dEdiam*x\n",
    "fgbeta=Ebeta+dEbeta*x"
   ]
  },
  {
   "cell_type": "code",
   "execution_count": 241,
   "metadata": {},
   "outputs": [],
   "source": [
    "eps=fgdiam-fgbeta"
   ]
  },
  {
   "cell_type": "code",
   "execution_count": 242,
   "metadata": {},
   "outputs": [
    {
     "data": {
      "text/plain": [
       "-0.5625*B0D*V0D*(V0D/x)**0.666666666666667*(-2.0*B0pD*((V0D/x)**0.666666666666667 - 1.0)**2.0 + ((V0D/x)**0.666666666666667 - 1.0)**1.0*(5.33333333333333*(V0D/x)**0.666666666666667 - 8.0) + 2.66666666666667*((V0D/x)**0.666666666666667 - 1.0)**2.0) + 0.5625*B0D*V0D*(B0pD*((V0D/x)**0.666666666666667 - 1.0)**3.0 - ((V0D/x)**0.666666666666667 - 1.0)**2.0*(4.0*(V0D/x)**0.666666666666667 - 6.0)) + 0.5625*B0b*V0b*(V0b/x)**0.666666666666667*(-2.0*B0pb*((V0b/x)**0.666666666666667 - 1.0)**2.0 + ((V0b/x)**0.666666666666667 - 1.0)**1.0*(5.33333333333333*(V0b/x)**0.666666666666667 - 8.0) + 2.66666666666667*((V0b/x)**0.666666666666667 - 1.0)**2.0) - 0.5625*B0b*V0b*(B0pb*((V0b/x)**0.666666666666667 - 1.0)**3.0 - ((V0b/x)**0.666666666666667 - 1.0)**2.0*(4.0*(V0b/x)**0.666666666666667 - 6.0)) + E0D - E0b"
      ]
     },
     "execution_count": 242,
     "metadata": {},
     "output_type": "execute_result"
    }
   ],
   "source": [
    "sym.simplify(eps)"
   ]
  },
  {
   "cell_type": "code",
   "execution_count": 256,
   "metadata": {},
   "outputs": [],
   "source": [
    "def feps(x,E0D,B0D,V0D,B0pD,E0b,B0b,V0b,B0pb):\n",
    "    return -0.5625*B0D*V0D*(V0D/x)**0.666666666666667*(-2.0*B0pD*((V0D/x)**0.666666666666667 - 1.0)**2.0 + ((V0D/x)**0.666666666666667 - 1.0)**1.0*(5.33333333333333*(V0D/x)**0.666666666666667 - 8.0) + 2.66666666666667*((V0D/x)**0.666666666666667 - 1.0)**2.0) + 0.5625*B0D*V0D*(B0pD*((V0D/x)**0.666666666666667 - 1.0)**3.0 - ((V0D/x)**0.666666666666667 - 1.0)**2.0*(4.0*(V0D/x)**0.666666666666667 - 6.0)) + 0.5625*B0b*V0b*(V0b/x)**0.666666666666667*(-2.0*B0pb*((V0b/x)**0.666666666666667 - 1.0)**2.0 + ((V0b/x)**0.666666666666667 - 1.0)**1.0*(5.33333333333333*(V0b/x)**0.666666666666667 - 8.0) + 2.66666666666667*((V0b/x)**0.666666666666667 - 1.0)**2.0) - 0.5625*B0b*V0b*(B0pb*((V0b/x)**0.666666666666667 - 1.0)**3.0 - ((V0b/x)**0.666666666666667 - 1.0)**2.0*(4.0*(V0b/x)**0.666666666666667 - 6.0)) + E0D - E0b"
   ]
  },
  {
   "cell_type": "code",
   "execution_count": 247,
   "metadata": {},
   "outputs": [],
   "source": [
    "neweps=feps(x,diamparams[0],diamparams[1],diamparams[2],diamparams[3],BTparams[0],BTparams[1],BTparams[2],BTparams[3])\n",
    "simplifyeps=sym.simplify(neweps)"
   ]
  },
  {
   "cell_type": "code",
   "execution_count": null,
   "metadata": {},
   "outputs": [],
   "source": []
  },
  {
   "cell_type": "code",
   "execution_count": null,
   "metadata": {},
   "outputs": [],
   "source": []
  },
  {
   "cell_type": "code",
   "execution_count": null,
   "metadata": {},
   "outputs": [],
   "source": []
  },
  {
   "cell_type": "code",
   "execution_count": 260,
   "metadata": {},
   "outputs": [
    {
     "data": {
      "text/plain": [
       "-5.136242080180033"
      ]
     },
     "execution_count": 260,
     "metadata": {},
     "output_type": "execute_result"
    }
   ],
   "source": [
    "# import numpy as np\n",
    "# from scipy.optimize import curve_fit\n",
    "# import matplotlib.pyplot as plt\n",
    "# from matplotlib.font_manager import FontProperties\n",
    "# import sys\n",
    "# from sympy import *\n",
    "# import sympy as sym\n",
    "# import os\n",
    "# import pickle as pl\n",
    "\n",
    "\n",
    "# # Intial candidates for fit, per FU: - thus, the E vs V input data has to be per FU\n",
    "# E0_init = -941.510817926696  # -1882.50963222/2.0 \n",
    "# V0_init = 63.54960592453 #125.8532/2.0 \n",
    "# B0_init = 76.3746233515232 #74.49 \n",
    "# B0_prime_init = 4.05340727164527 #4.15\n",
    "\n",
    "# def BM(x, a, b, c, d):\n",
    "#          return  a + b*x + c*x**2 + d*x**3 \n",
    "\n",
    "# def devBM(x, b, c, d):\n",
    "#          return  b + 2*c*x + 3*d*x**2 \n",
    "\n",
    "# # Data 1 (Red triangles): \n",
    "# V_C_I, E_C_I = np.loadtxt('./1.dat', skiprows = 1).T\n",
    "\n",
    "# # Data 14 (Empty grey triangles):\n",
    "# V_14, E_14 = np.loadtxt('./2.dat', skiprows = 1).T\n",
    "\n",
    "# init_vals = [E0_init, V0_init, B0_init, B0_prime_init]\n",
    "# popt_C_I, pcov_C_I = curve_fit(BM, V_C_I, E_C_I, p0=init_vals)\n",
    "# popt_14, pcov_14 = curve_fit(BM, V_14, E_14, p0=init_vals)\n",
    "\n",
    "\n",
    "# def equations(p):\n",
    "#     x1, x2 = p\n",
    "#     E1 = devBM(x1, popt_C_I[1], popt_C_I[2], popt_C_I[3]) - devBM(x2, popt_14[1], popt_14[2], popt_14[3])\n",
    "#     E2 = ((BM(x1, popt_C_I[0], popt_C_I[1], popt_C_I[2], popt_C_I[3]) - BM(x2, popt_14[0], popt_14[1], popt_14[2], popt_14[3])) / (x1 - x2)) - devBM(x1, popt_C_I[1], popt_C_I[2], popt_C_I[3])\n",
    "#     return (E1, E2)\n",
    "\n",
    "# from scipy.optimize import least_squares\n",
    "# lb = (61.0, 59.0)   # lower bounds on x1, x2\n",
    "# ub = (62.0, 60.0)   # upper bounds\n",
    "# result = least_squares(equations, [61, 59], bounds=(lb, ub))\n",
    "# result_tight_tols = least_squares(equations, [61, 59], ftol=1e-12, xtol=1e-12, gtol=1e-12, bounds=(lb, ub))\n",
    "\n",
    "# print \"\"\"\n",
    "# ####  ftol=1e-08, xtol=1e-08, gtol=1e-08  #####\n",
    "# \"\"\"\n",
    "# print 'result = ', result\n",
    "# print 'result.x = ', result.x\n",
    "# print \"\"\"\n",
    "\n",
    "# \"\"\"\n",
    "# x1 = result.x[0]\n",
    "# x2 = result.x[1]\n",
    "\n",
    "# slope_common_tangent = devBM(x1, popt_C_I[1], popt_C_I[2], popt_C_I[3])\n",
    "# print 'slope_common_tangent = ', slope_common_tangent\n",
    "\n",
    "# def comm_tangent(x, x1, slope_common_tangent):\n",
    "#    return BM(x1, popt_C_I[0], popt_C_I[1], popt_C_I[2], popt_C_I[3]) - slope_common_tangent * x1 + slope_common_tangent * x\n",
    "\n",
    "# # Linspace for plotting the fitting curves:\n",
    "# V_C_I_lin = np.linspace(V_C_I[0]-2, V_C_I[-1], 10000)\n",
    "# V_14_lin = np.linspace(V_14[0], V_14[-1]+2, 10000)\n",
    "\n",
    "\n",
    "# plt.figure()"
   ]
  },
  {
   "cell_type": "code",
   "execution_count": 71,
   "metadata": {},
   "outputs": [
    {
     "name": "stdout",
     "output_type": "stream",
     "text": [
      "Help on function least_squares in module scipy.optimize._lsq.least_squares:\n",
      "\n",
      "least_squares(fun, x0, jac='2-point', bounds=(-inf, inf), method='trf', ftol=1e-08, xtol=1e-08, gtol=1e-08, x_scale=1.0, loss='linear', f_scale=1.0, diff_step=None, tr_solver=None, tr_options={}, jac_sparsity=None, max_nfev=None, verbose=0, args=(), kwargs={})\n",
      "    Solve a nonlinear least-squares problem with bounds on the variables.\n",
      "    \n",
      "    Given the residuals f(x) (an m-dimensional real function of n real\n",
      "    variables) and the loss function rho(s) (a scalar function), `least_squares`\n",
      "    finds a local minimum of the cost function F(x)::\n",
      "    \n",
      "        minimize F(x) = 0.5 * sum(rho(f_i(x)**2), i = 0, ..., m - 1)\n",
      "        subject to lb <= x <= ub\n",
      "    \n",
      "    The purpose of the loss function rho(s) is to reduce the influence of\n",
      "    outliers on the solution.\n",
      "    \n",
      "    Parameters\n",
      "    ----------\n",
      "    fun : callable\n",
      "        Function which computes the vector of residuals, with the signature\n",
      "        ``fun(x, *args, **kwargs)``, i.e., the minimization proceeds with\n",
      "        respect to its first argument. The argument ``x`` passed to this\n",
      "        function is an ndarray of shape (n,) (never a scalar, even for n=1).\n",
      "        It must return a 1-d array_like of shape (m,) or a scalar. If the\n",
      "        argument ``x`` is complex or the function ``fun`` returns complex\n",
      "        residuals, it must be wrapped in a real function of real arguments,\n",
      "        as shown at the end of the Examples section.\n",
      "    x0 : array_like with shape (n,) or float\n",
      "        Initial guess on independent variables. If float, it will be treated\n",
      "        as a 1-d array with one element.\n",
      "    jac : {'2-point', '3-point', 'cs', callable}, optional\n",
      "        Method of computing the Jacobian matrix (an m-by-n matrix, where\n",
      "        element (i, j) is the partial derivative of f[i] with respect to\n",
      "        x[j]). The keywords select a finite difference scheme for numerical\n",
      "        estimation. The scheme '3-point' is more accurate, but requires\n",
      "        twice as many operations as '2-point' (default). The scheme 'cs'\n",
      "        uses complex steps, and while potentially the most accurate, it is\n",
      "        applicable only when `fun` correctly handles complex inputs and\n",
      "        can be analytically continued to the complex plane. Method 'lm'\n",
      "        always uses the '2-point' scheme. If callable, it is used as\n",
      "        ``jac(x, *args, **kwargs)`` and should return a good approximation\n",
      "        (or the exact value) for the Jacobian as an array_like (np.atleast_2d\n",
      "        is applied), a sparse matrix or a `scipy.sparse.linalg.LinearOperator`.\n",
      "    bounds : 2-tuple of array_like, optional\n",
      "        Lower and upper bounds on independent variables. Defaults to no bounds.\n",
      "        Each array must match the size of `x0` or be a scalar, in the latter\n",
      "        case a bound will be the same for all variables. Use ``np.inf`` with\n",
      "        an appropriate sign to disable bounds on all or some variables.\n",
      "    method : {'trf', 'dogbox', 'lm'}, optional\n",
      "        Algorithm to perform minimization.\n",
      "    \n",
      "            * 'trf' : Trust Region Reflective algorithm, particularly suitable\n",
      "              for large sparse problems with bounds. Generally robust method.\n",
      "            * 'dogbox' : dogleg algorithm with rectangular trust regions,\n",
      "              typical use case is small problems with bounds. Not recommended\n",
      "              for problems with rank-deficient Jacobian.\n",
      "            * 'lm' : Levenberg-Marquardt algorithm as implemented in MINPACK.\n",
      "              Doesn't handle bounds and sparse Jacobians. Usually the most\n",
      "              efficient method for small unconstrained problems.\n",
      "    \n",
      "        Default is 'trf'. See Notes for more information.\n",
      "    ftol : float, optional\n",
      "        Tolerance for termination by the change of the cost function. Default\n",
      "        is 1e-8. The optimization process is stopped when  ``dF < ftol * F``,\n",
      "        and there was an adequate agreement between a local quadratic model and\n",
      "        the true model in the last step.\n",
      "    xtol : float, optional\n",
      "        Tolerance for termination by the change of the independent variables.\n",
      "        Default is 1e-8. The exact condition depends on the `method` used:\n",
      "    \n",
      "            * For 'trf' and 'dogbox' : ``norm(dx) < xtol * (xtol + norm(x))``\n",
      "            * For 'lm' : ``Delta < xtol * norm(xs)``, where ``Delta`` is\n",
      "              a trust-region radius and ``xs`` is the value of ``x``\n",
      "              scaled according to `x_scale` parameter (see below).\n",
      "    \n",
      "    gtol : float, optional\n",
      "        Tolerance for termination by the norm of the gradient. Default is 1e-8.\n",
      "        The exact condition depends on a `method` used:\n",
      "    \n",
      "            * For 'trf' : ``norm(g_scaled, ord=np.inf) < gtol``, where\n",
      "              ``g_scaled`` is the value of the gradient scaled to account for\n",
      "              the presence of the bounds [STIR]_.\n",
      "            * For 'dogbox' : ``norm(g_free, ord=np.inf) < gtol``, where\n",
      "              ``g_free`` is the gradient with respect to the variables which\n",
      "              are not in the optimal state on the boundary.\n",
      "            * For 'lm' : the maximum absolute value of the cosine of angles\n",
      "              between columns of the Jacobian and the residual vector is less\n",
      "              than `gtol`, or the residual vector is zero.\n",
      "    \n",
      "    x_scale : array_like or 'jac', optional\n",
      "        Characteristic scale of each variable. Setting `x_scale` is equivalent\n",
      "        to reformulating the problem in scaled variables ``xs = x / x_scale``.\n",
      "        An alternative view is that the size of a trust region along j-th\n",
      "        dimension is proportional to ``x_scale[j]``. Improved convergence may\n",
      "        be achieved by setting `x_scale` such that a step of a given size\n",
      "        along any of the scaled variables has a similar effect on the cost\n",
      "        function. If set to 'jac', the scale is iteratively updated using the\n",
      "        inverse norms of the columns of the Jacobian matrix (as described in\n",
      "        [JJMore]_).\n",
      "    loss : str or callable, optional\n",
      "        Determines the loss function. The following keyword values are allowed:\n",
      "    \n",
      "            * 'linear' (default) : ``rho(z) = z``. Gives a standard\n",
      "              least-squares problem.\n",
      "            * 'soft_l1' : ``rho(z) = 2 * ((1 + z)**0.5 - 1)``. The smooth\n",
      "              approximation of l1 (absolute value) loss. Usually a good\n",
      "              choice for robust least squares.\n",
      "            * 'huber' : ``rho(z) = z if z <= 1 else 2*z**0.5 - 1``. Works\n",
      "              similarly to 'soft_l1'.\n",
      "            * 'cauchy' : ``rho(z) = ln(1 + z)``. Severely weakens outliers\n",
      "              influence, but may cause difficulties in optimization process.\n",
      "            * 'arctan' : ``rho(z) = arctan(z)``. Limits a maximum loss on\n",
      "              a single residual, has properties similar to 'cauchy'.\n",
      "    \n",
      "        If callable, it must take a 1-d ndarray ``z=f**2`` and return an\n",
      "        array_like with shape (3, m) where row 0 contains function values,\n",
      "        row 1 contains first derivatives and row 2 contains second\n",
      "        derivatives. Method 'lm' supports only 'linear' loss.\n",
      "    f_scale : float, optional\n",
      "        Value of soft margin between inlier and outlier residuals, default\n",
      "        is 1.0. The loss function is evaluated as follows\n",
      "        ``rho_(f**2) = C**2 * rho(f**2 / C**2)``, where ``C`` is `f_scale`,\n",
      "        and ``rho`` is determined by `loss` parameter. This parameter has\n",
      "        no effect with ``loss='linear'``, but for other `loss` values it is\n",
      "        of crucial importance.\n",
      "    max_nfev : None or int, optional\n",
      "        Maximum number of function evaluations before the termination.\n",
      "        If None (default), the value is chosen automatically:\n",
      "    \n",
      "            * For 'trf' and 'dogbox' : 100 * n.\n",
      "            * For 'lm' :  100 * n if `jac` is callable and 100 * n * (n + 1)\n",
      "              otherwise (because 'lm' counts function calls in Jacobian\n",
      "              estimation).\n",
      "    \n",
      "    diff_step : None or array_like, optional\n",
      "        Determines the relative step size for the finite difference\n",
      "        approximation of the Jacobian. The actual step is computed as\n",
      "        ``x * diff_step``. If None (default), then `diff_step` is taken to be\n",
      "        a conventional \"optimal\" power of machine epsilon for the finite\n",
      "        difference scheme used [NR]_.\n",
      "    tr_solver : {None, 'exact', 'lsmr'}, optional\n",
      "        Method for solving trust-region subproblems, relevant only for 'trf'\n",
      "        and 'dogbox' methods.\n",
      "    \n",
      "            * 'exact' is suitable for not very large problems with dense\n",
      "              Jacobian matrices. The computational complexity per iteration is\n",
      "              comparable to a singular value decomposition of the Jacobian\n",
      "              matrix.\n",
      "            * 'lsmr' is suitable for problems with sparse and large Jacobian\n",
      "              matrices. It uses the iterative procedure\n",
      "              `scipy.sparse.linalg.lsmr` for finding a solution of a linear\n",
      "              least-squares problem and only requires matrix-vector product\n",
      "              evaluations.\n",
      "    \n",
      "        If None (default) the solver is chosen based on the type of Jacobian\n",
      "        returned on the first iteration.\n",
      "    tr_options : dict, optional\n",
      "        Keyword options passed to trust-region solver.\n",
      "    \n",
      "            * ``tr_solver='exact'``: `tr_options` are ignored.\n",
      "            * ``tr_solver='lsmr'``: options for `scipy.sparse.linalg.lsmr`.\n",
      "              Additionally  ``method='trf'`` supports  'regularize' option\n",
      "              (bool, default is True) which adds a regularization term to the\n",
      "              normal equation, which improves convergence if the Jacobian is\n",
      "              rank-deficient [Byrd]_ (eq. 3.4).\n",
      "    \n",
      "    jac_sparsity : {None, array_like, sparse matrix}, optional\n",
      "        Defines the sparsity structure of the Jacobian matrix for finite\n",
      "        difference estimation, its shape must be (m, n). If the Jacobian has\n",
      "        only few non-zero elements in *each* row, providing the sparsity\n",
      "        structure will greatly speed up the computations [Curtis]_. A zero\n",
      "        entry means that a corresponding element in the Jacobian is identically\n",
      "        zero. If provided, forces the use of 'lsmr' trust-region solver.\n",
      "        If None (default) then dense differencing will be used. Has no effect\n",
      "        for 'lm' method.\n",
      "    verbose : {0, 1, 2}, optional\n",
      "        Level of algorithm's verbosity:\n",
      "    \n",
      "            * 0 (default) : work silently.\n",
      "            * 1 : display a termination report.\n",
      "            * 2 : display progress during iterations (not supported by 'lm'\n",
      "              method).\n",
      "    \n",
      "    args, kwargs : tuple and dict, optional\n",
      "        Additional arguments passed to `fun` and `jac`. Both empty by default.\n",
      "        The calling signature is ``fun(x, *args, **kwargs)`` and the same for\n",
      "        `jac`.\n",
      "    \n",
      "    Returns\n",
      "    -------\n",
      "    `OptimizeResult` with the following fields defined:\n",
      "    x : ndarray, shape (n,)\n",
      "        Solution found.\n",
      "    cost : float\n",
      "        Value of the cost function at the solution.\n",
      "    fun : ndarray, shape (m,)\n",
      "        Vector of residuals at the solution.\n",
      "    jac : ndarray, sparse matrix or LinearOperator, shape (m, n)\n",
      "        Modified Jacobian matrix at the solution, in the sense that J^T J\n",
      "        is a Gauss-Newton approximation of the Hessian of the cost function.\n",
      "        The type is the same as the one used by the algorithm.\n",
      "    grad : ndarray, shape (m,)\n",
      "        Gradient of the cost function at the solution.\n",
      "    optimality : float\n",
      "        First-order optimality measure. In unconstrained problems, it is always\n",
      "        the uniform norm of the gradient. In constrained problems, it is the\n",
      "        quantity which was compared with `gtol` during iterations.\n",
      "    active_mask : ndarray of int, shape (n,)\n",
      "        Each component shows whether a corresponding constraint is active\n",
      "        (that is, whether a variable is at the bound):\n",
      "    \n",
      "            *  0 : a constraint is not active.\n",
      "            * -1 : a lower bound is active.\n",
      "            *  1 : an upper bound is active.\n",
      "    \n",
      "        Might be somewhat arbitrary for 'trf' method as it generates a sequence\n",
      "        of strictly feasible iterates and `active_mask` is determined within a\n",
      "        tolerance threshold.\n",
      "    nfev : int\n",
      "        Number of function evaluations done. Methods 'trf' and 'dogbox' do not\n",
      "        count function calls for numerical Jacobian approximation, as opposed\n",
      "        to 'lm' method.\n",
      "    njev : int or None\n",
      "        Number of Jacobian evaluations done. If numerical Jacobian\n",
      "        approximation is used in 'lm' method, it is set to None.\n",
      "    status : int\n",
      "        The reason for algorithm termination:\n",
      "    \n",
      "            * -1 : improper input parameters status returned from MINPACK.\n",
      "            *  0 : the maximum number of function evaluations is exceeded.\n",
      "            *  1 : `gtol` termination condition is satisfied.\n",
      "            *  2 : `ftol` termination condition is satisfied.\n",
      "            *  3 : `xtol` termination condition is satisfied.\n",
      "            *  4 : Both `ftol` and `xtol` termination conditions are satisfied.\n",
      "    \n",
      "    message : str\n",
      "        Verbal description of the termination reason.\n",
      "    success : bool\n",
      "        True if one of the convergence criteria is satisfied (`status` > 0).\n",
      "    \n",
      "    See Also\n",
      "    --------\n",
      "    leastsq : A legacy wrapper for the MINPACK implementation of the\n",
      "              Levenberg-Marquadt algorithm.\n",
      "    curve_fit : Least-squares minimization applied to a curve fitting problem.\n",
      "    \n",
      "    Notes\n",
      "    -----\n",
      "    Method 'lm' (Levenberg-Marquardt) calls a wrapper over least-squares\n",
      "    algorithms implemented in MINPACK (lmder, lmdif). It runs the\n",
      "    Levenberg-Marquardt algorithm formulated as a trust-region type algorithm.\n",
      "    The implementation is based on paper [JJMore]_, it is very robust and\n",
      "    efficient with a lot of smart tricks. It should be your first choice\n",
      "    for unconstrained problems. Note that it doesn't support bounds. Also\n",
      "    it doesn't work when m < n.\n",
      "    \n",
      "    Method 'trf' (Trust Region Reflective) is motivated by the process of\n",
      "    solving a system of equations, which constitute the first-order optimality\n",
      "    condition for a bound-constrained minimization problem as formulated in\n",
      "    [STIR]_. The algorithm iteratively solves trust-region subproblems\n",
      "    augmented by a special diagonal quadratic term and with trust-region shape\n",
      "    determined by the distance from the bounds and the direction of the\n",
      "    gradient. This enhancements help to avoid making steps directly into bounds\n",
      "    and efficiently explore the whole space of variables. To further improve\n",
      "    convergence, the algorithm considers search directions reflected from the\n",
      "    bounds. To obey theoretical requirements, the algorithm keeps iterates\n",
      "    strictly feasible. With dense Jacobians trust-region subproblems are\n",
      "    solved by an exact method very similar to the one described in [JJMore]_\n",
      "    (and implemented in MINPACK). The difference from the MINPACK\n",
      "    implementation is that a singular value decomposition of a Jacobian\n",
      "    matrix is done once per iteration, instead of a QR decomposition and series\n",
      "    of Givens rotation eliminations. For large sparse Jacobians a 2-d subspace\n",
      "    approach of solving trust-region subproblems is used [STIR]_, [Byrd]_.\n",
      "    The subspace is spanned by a scaled gradient and an approximate\n",
      "    Gauss-Newton solution delivered by `scipy.sparse.linalg.lsmr`. When no\n",
      "    constraints are imposed the algorithm is very similar to MINPACK and has\n",
      "    generally comparable performance. The algorithm works quite robust in\n",
      "    unbounded and bounded problems, thus it is chosen as a default algorithm.\n",
      "    \n",
      "    Method 'dogbox' operates in a trust-region framework, but considers\n",
      "    rectangular trust regions as opposed to conventional ellipsoids [Voglis]_.\n",
      "    The intersection of a current trust region and initial bounds is again\n",
      "    rectangular, so on each iteration a quadratic minimization problem subject\n",
      "    to bound constraints is solved approximately by Powell's dogleg method\n",
      "    [NumOpt]_. The required Gauss-Newton step can be computed exactly for\n",
      "    dense Jacobians or approximately by `scipy.sparse.linalg.lsmr` for large\n",
      "    sparse Jacobians. The algorithm is likely to exhibit slow convergence when\n",
      "    the rank of Jacobian is less than the number of variables. The algorithm\n",
      "    often outperforms 'trf' in bounded problems with a small number of\n",
      "    variables.\n",
      "    \n",
      "    Robust loss functions are implemented as described in [BA]_. The idea\n",
      "    is to modify a residual vector and a Jacobian matrix on each iteration\n",
      "    such that computed gradient and Gauss-Newton Hessian approximation match\n",
      "    the true gradient and Hessian approximation of the cost function. Then\n",
      "    the algorithm proceeds in a normal way, i.e. robust loss functions are\n",
      "    implemented as a simple wrapper over standard least-squares algorithms.\n",
      "    \n",
      "    .. versionadded:: 0.17.0\n",
      "    \n",
      "    References\n",
      "    ----------\n",
      "    .. [STIR] M. A. Branch, T. F. Coleman, and Y. Li, \"A Subspace, Interior,\n",
      "              and Conjugate Gradient Method for Large-Scale Bound-Constrained\n",
      "              Minimization Problems,\" SIAM Journal on Scientific Computing,\n",
      "              Vol. 21, Number 1, pp 1-23, 1999.\n",
      "    .. [NR] William H. Press et. al., \"Numerical Recipes. The Art of Scientific\n",
      "            Computing. 3rd edition\", Sec. 5.7.\n",
      "    .. [Byrd] R. H. Byrd, R. B. Schnabel and G. A. Shultz, \"Approximate\n",
      "              solution of the trust region problem by minimization over\n",
      "              two-dimensional subspaces\", Math. Programming, 40, pp. 247-263,\n",
      "              1988.\n",
      "    .. [Curtis] A. Curtis, M. J. D. Powell, and J. Reid, \"On the estimation of\n",
      "                sparse Jacobian matrices\", Journal of the Institute of\n",
      "                Mathematics and its Applications, 13, pp. 117-120, 1974.\n",
      "    .. [JJMore] J. J. More, \"The Levenberg-Marquardt Algorithm: Implementation\n",
      "                and Theory,\" Numerical Analysis, ed. G. A. Watson, Lecture\n",
      "                Notes in Mathematics 630, Springer Verlag, pp. 105-116, 1977.\n",
      "    .. [Voglis] C. Voglis and I. E. Lagaris, \"A Rectangular Trust Region\n",
      "                Dogleg Approach for Unconstrained and Bound Constrained\n",
      "                Nonlinear Optimization\", WSEAS International Conference on\n",
      "                Applied Mathematics, Corfu, Greece, 2004.\n",
      "    .. [NumOpt] J. Nocedal and S. J. Wright, \"Numerical optimization,\n",
      "                2nd edition\", Chapter 4.\n",
      "    .. [BA] B. Triggs et. al., \"Bundle Adjustment - A Modern Synthesis\",\n",
      "            Proceedings of the International Workshop on Vision Algorithms:\n",
      "            Theory and Practice, pp. 298-372, 1999.\n",
      "    \n",
      "    Examples\n",
      "    --------\n",
      "    In this example we find a minimum of the Rosenbrock function without bounds\n",
      "    on independent variables.\n",
      "    \n",
      "    >>> def fun_rosenbrock(x):\n",
      "    ...     return np.array([10 * (x[1] - x[0]**2), (1 - x[0])])\n",
      "    \n",
      "    Notice that we only provide the vector of the residuals. The algorithm\n",
      "    constructs the cost function as a sum of squares of the residuals, which\n",
      "    gives the Rosenbrock function. The exact minimum is at ``x = [1.0, 1.0]``.\n",
      "    \n",
      "    >>> from scipy.optimize import least_squares\n",
      "    >>> x0_rosenbrock = np.array([2, 2])\n",
      "    >>> res_1 = least_squares(fun_rosenbrock, x0_rosenbrock)\n",
      "    >>> res_1.x\n",
      "    array([ 1.,  1.])\n",
      "    >>> res_1.cost\n",
      "    9.8669242910846867e-30\n",
      "    >>> res_1.optimality\n",
      "    8.8928864934219529e-14\n",
      "    \n",
      "    We now constrain the variables, in such a way that the previous solution\n",
      "    becomes infeasible. Specifically, we require that ``x[1] >= 1.5``, and\n",
      "    ``x[0]`` left unconstrained. To this end, we specify the `bounds` parameter\n",
      "    to `least_squares` in the form ``bounds=([-np.inf, 1.5], np.inf)``.\n",
      "    \n",
      "    We also provide the analytic Jacobian:\n",
      "    \n",
      "    >>> def jac_rosenbrock(x):\n",
      "    ...     return np.array([\n",
      "    ...         [-20 * x[0], 10],\n",
      "    ...         [-1, 0]])\n",
      "    \n",
      "    Putting this all together, we see that the new solution lies on the bound:\n",
      "    \n",
      "    >>> res_2 = least_squares(fun_rosenbrock, x0_rosenbrock, jac_rosenbrock,\n",
      "    ...                       bounds=([-np.inf, 1.5], np.inf))\n",
      "    >>> res_2.x\n",
      "    array([ 1.22437075,  1.5       ])\n",
      "    >>> res_2.cost\n",
      "    0.025213093946805685\n",
      "    >>> res_2.optimality\n",
      "    1.5885401433157753e-07\n",
      "    \n",
      "    Now we solve a system of equations (i.e., the cost function should be zero\n",
      "    at a minimum) for a Broyden tridiagonal vector-valued function of 100000\n",
      "    variables:\n",
      "    \n",
      "    >>> def fun_broyden(x):\n",
      "    ...     f = (3 - x) * x + 1\n",
      "    ...     f[1:] -= x[:-1]\n",
      "    ...     f[:-1] -= 2 * x[1:]\n",
      "    ...     return f\n",
      "    \n",
      "    The corresponding Jacobian matrix is sparse. We tell the algorithm to\n",
      "    estimate it by finite differences and provide the sparsity structure of\n",
      "    Jacobian to significantly speed up this process.\n",
      "    \n",
      "    >>> from scipy.sparse import lil_matrix\n",
      "    >>> def sparsity_broyden(n):\n",
      "    ...     sparsity = lil_matrix((n, n), dtype=int)\n",
      "    ...     i = np.arange(n)\n",
      "    ...     sparsity[i, i] = 1\n",
      "    ...     i = np.arange(1, n)\n",
      "    ...     sparsity[i, i - 1] = 1\n",
      "    ...     i = np.arange(n - 1)\n",
      "    ...     sparsity[i, i + 1] = 1\n",
      "    ...     return sparsity\n",
      "    ...\n",
      "    >>> n = 100000\n",
      "    >>> x0_broyden = -np.ones(n)\n",
      "    ...\n",
      "    >>> res_3 = least_squares(fun_broyden, x0_broyden,\n",
      "    ...                       jac_sparsity=sparsity_broyden(n))\n",
      "    >>> res_3.cost\n",
      "    4.5687069299604613e-23\n",
      "    >>> res_3.optimality\n",
      "    1.1650454296851518e-11\n",
      "    \n",
      "    Let's also solve a curve fitting problem using robust loss function to\n",
      "    take care of outliers in the data. Define the model function as\n",
      "    ``y = a + b * exp(c * t)``, where t is a predictor variable, y is an\n",
      "    observation and a, b, c are parameters to estimate.\n",
      "    \n",
      "    First, define the function which generates the data with noise and\n",
      "    outliers, define the model parameters, and generate data:\n",
      "    \n",
      "    >>> def gen_data(t, a, b, c, noise=0, n_outliers=0, random_state=0):\n",
      "    ...     y = a + b * np.exp(t * c)\n",
      "    ...\n",
      "    ...     rnd = np.random.RandomState(random_state)\n",
      "    ...     error = noise * rnd.randn(t.size)\n",
      "    ...     outliers = rnd.randint(0, t.size, n_outliers)\n",
      "    ...     error[outliers] *= 10\n",
      "    ...\n",
      "    ...     return y + error\n",
      "    ...\n",
      "    >>> a = 0.5\n",
      "    >>> b = 2.0\n",
      "    >>> c = -1\n",
      "    >>> t_min = 0\n",
      "    >>> t_max = 10\n",
      "    >>> n_points = 15\n",
      "    ...\n",
      "    >>> t_train = np.linspace(t_min, t_max, n_points)\n",
      "    >>> y_train = gen_data(t_train, a, b, c, noise=0.1, n_outliers=3)\n",
      "    \n",
      "    Define function for computing residuals and initial estimate of\n",
      "    parameters.\n",
      "    \n",
      "    >>> def fun(x, t, y):\n",
      "    ...     return x[0] + x[1] * np.exp(x[2] * t) - y\n",
      "    ...\n",
      "    >>> x0 = np.array([1.0, 1.0, 0.0])\n",
      "    \n",
      "    Compute a standard least-squares solution:\n",
      "    \n",
      "    >>> res_lsq = least_squares(fun, x0, args=(t_train, y_train))\n",
      "    \n",
      "    Now compute two solutions with two different robust loss functions. The\n",
      "    parameter `f_scale` is set to 0.1, meaning that inlier residuals should\n",
      "    not significantly exceed 0.1 (the noise level used).\n",
      "    \n",
      "    >>> res_soft_l1 = least_squares(fun, x0, loss='soft_l1', f_scale=0.1,\n",
      "    ...                             args=(t_train, y_train))\n",
      "    >>> res_log = least_squares(fun, x0, loss='cauchy', f_scale=0.1,\n",
      "    ...                         args=(t_train, y_train))\n",
      "    \n",
      "    And finally plot all the curves. We see that by selecting an appropriate\n",
      "    `loss`  we can get estimates close to optimal even in the presence of\n",
      "    strong outliers. But keep in mind that generally it is recommended to try\n",
      "    'soft_l1' or 'huber' losses first (if at all necessary) as the other two\n",
      "    options may cause difficulties in optimization process.\n",
      "    \n",
      "    >>> t_test = np.linspace(t_min, t_max, n_points * 10)\n",
      "    >>> y_true = gen_data(t_test, a, b, c)\n",
      "    >>> y_lsq = gen_data(t_test, *res_lsq.x)\n",
      "    >>> y_soft_l1 = gen_data(t_test, *res_soft_l1.x)\n",
      "    >>> y_log = gen_data(t_test, *res_log.x)\n",
      "    ...\n",
      "    >>> import matplotlib.pyplot as plt\n",
      "    >>> plt.plot(t_train, y_train, 'o')\n",
      "    >>> plt.plot(t_test, y_true, 'k', linewidth=2, label='true')\n",
      "    >>> plt.plot(t_test, y_lsq, label='linear loss')\n",
      "    >>> plt.plot(t_test, y_soft_l1, label='soft_l1 loss')\n",
      "    >>> plt.plot(t_test, y_log, label='cauchy loss')\n",
      "    >>> plt.xlabel(\"t\")\n",
      "    >>> plt.ylabel(\"y\")\n",
      "    >>> plt.legend()\n",
      "    >>> plt.show()\n",
      "    \n",
      "    In the next example, we show how complex-valued residual functions of\n",
      "    complex variables can be optimized with ``least_squares()``. Consider the\n",
      "    following function:\n",
      "    \n",
      "    >>> def f(z):\n",
      "    ...     return z - (0.5 + 0.5j)\n",
      "    \n",
      "    We wrap it into a function of real variables that returns real residuals\n",
      "    by simply handling the real and imaginary parts as independent variables:\n",
      "    \n",
      "    >>> def f_wrap(x):\n",
      "    ...     fx = f(x[0] + 1j*x[1])\n",
      "    ...     return np.array([fx.real, fx.imag])\n",
      "    \n",
      "    Thus, instead of the original m-dimensional complex function of n complex\n",
      "    variables we optimize a 2m-dimensional real function of 2n real variables:\n",
      "    \n",
      "    >>> from scipy.optimize import least_squares\n",
      "    >>> res_wrapped = least_squares(f_wrap, (0.1, 0.1), bounds=([0, 0], [1, 1]))\n",
      "    >>> z = res_wrapped.x[0] + res_wrapped.x[1]*1j\n",
      "    >>> z\n",
      "    (0.49999999999925893+0.49999999999925893j)\n",
      "\n"
     ]
    }
   ],
   "source": [
    "help(least_squares)"
   ]
  },
  {
   "cell_type": "code",
   "execution_count": null,
   "metadata": {},
   "outputs": [],
   "source": []
  },
  {
   "cell_type": "code",
   "execution_count": null,
   "metadata": {},
   "outputs": [],
   "source": []
  }
 ],
 "metadata": {
  "kernelspec": {
   "display_name": "Python 3",
   "language": "python",
   "name": "python3"
  },
  "language_info": {
   "codemirror_mode": {
    "name": "ipython",
    "version": 3
   },
   "file_extension": ".py",
   "mimetype": "text/x-python",
   "name": "python",
   "nbconvert_exporter": "python",
   "pygments_lexer": "ipython3",
   "version": "3.7.3"
  }
 },
 "nbformat": 4,
 "nbformat_minor": 2
}
