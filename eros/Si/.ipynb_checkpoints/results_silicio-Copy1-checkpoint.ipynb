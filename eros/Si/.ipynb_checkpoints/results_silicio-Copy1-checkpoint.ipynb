{
 "cells": [
  {
   "cell_type": "code",
   "execution_count": 8,
   "metadata": {},
   "outputs": [],
   "source": [
    "import numpy as np\n",
    "import matplotlib.pyplot as plt\n",
    "import pandas as pd\n",
    "import matplotlib.ticker as mticker"
   ]
  },
  {
   "cell_type": "code",
   "execution_count": 9,
   "metadata": {},
   "outputs": [],
   "source": [
    "diamante=pd.read_csv(\"diamante/conv_ALAT/volEtot.dat\",sep='\\s+',header=None)\n",
    "diamante.columns=['ALAT','Volumen','Energía total']"
   ]
  },
  {
   "cell_type": "code",
   "execution_count": null,
   "metadata": {},
   "outputs": [],
   "source": []
  },
  {
   "cell_type": "code",
   "execution_count": 10,
   "metadata": {},
   "outputs": [],
   "source": [
    "HCP=pd.read_csv(\"HCP/volEtot.dat\",sep='\\s+',header=None)\n",
    "HCP.columns=['ALAT','Volumen','Energía total']"
   ]
  },
  {
   "cell_type": "code",
   "execution_count": null,
   "metadata": {},
   "outputs": [],
   "source": []
  },
  {
   "cell_type": "code",
   "execution_count": 11,
   "metadata": {},
   "outputs": [],
   "source": [
    "beta_tin=pd.read_csv(\"beta-tin/volEtot.dat\",sep='\\s+',header=None)\n",
    "beta_tin.columns=['ALAT','Volumen','Energía total']"
   ]
  },
  {
   "cell_type": "code",
   "execution_count": null,
   "metadata": {},
   "outputs": [],
   "source": []
  },
  {
   "cell_type": "code",
   "execution_count": null,
   "metadata": {},
   "outputs": [],
   "source": []
  },
  {
   "cell_type": "code",
   "execution_count": 12,
   "metadata": {},
   "outputs": [
    {
     "name": "stdout",
     "output_type": "stream",
     "text": [
      "Parámetros de diamante:\n",
      "E0 = -5.4199\n",
      "B0 = 0.5201\n",
      "V0 = 20.6127\n",
      "B0' = 4.0576\n",
      "\n",
      "Parámetros de HCP:\n",
      "E0 = -4.9420\n",
      "B0 = 0.5907\n",
      "V0 = 14.3801\n",
      "B0' = 4.1513\n",
      "\n",
      "Parámetros de beta-tin:\n",
      "E0 = -5.1687\n",
      "B0 = 0.6886\n",
      "V0 = 15.3618\n",
      "B0' = 3.9779\n"
     ]
    }
   ],
   "source": [
    "from scipy import optimize\n",
    "\n",
    "def Birch_Murnaghan(x, E0, B0, V0, B0p):\n",
    "    C=9./16.\n",
    "    return E0+C*V0*B0*(B0p*((V0/x)**(2/3)-1.0)**3.+((V0/x)**(2./3.)-1.0)**2.*(6.0-4.0*(V0/x)**(2./3.)))\n",
    "\n",
    "x_data=diamante[\"Volumen\"]\n",
    "y_data=diamante[\"Energía total\"]\n",
    "diamparams, diamparams_covariance = optimize.curve_fit(Birch_Murnaghan, x_data, y_data,p0=[1,1,15,1])\n",
    "\n",
    "print(\"Parámetros de diamante:\")\n",
    "print(\"E0 = {:6.4f}\".format(diamparams[0]))\n",
    "print(\"B0 = {:6.4f}\".format(diamparams[1]))\n",
    "print(\"V0 = {:6.4f}\".format(diamparams[2]))\n",
    "print(\"B0' = {:6.4f}\".format(diamparams[3]))\n",
    "\n",
    "x_data=HCP[\"Volumen\"]\n",
    "y_data=HCP[\"Energía total\"]\n",
    "HCPparams, HCPparams_covariance = optimize.curve_fit(Birch_Murnaghan, x_data, y_data,p0=[1,1,15,1])\n",
    "\n",
    "print(\"\\nParámetros de HCP:\")\n",
    "print(\"E0 = {:6.4f}\".format(HCPparams[0]))\n",
    "print(\"B0 = {:6.4f}\".format(HCPparams[1]))\n",
    "print(\"V0 = {:6.4f}\".format(HCPparams[2]))\n",
    "print(\"B0' = {:6.4f}\".format(HCPparams[3]))\n",
    "\n",
    "x_data=beta_tin[\"Volumen\"][:-2]\n",
    "y_data=beta_tin[\"Energía total\"][:-2]\n",
    "BTparams, BTparams_covariance = optimize.curve_fit(Birch_Murnaghan, x_data, y_data,p0=[1,1,15,1])\n",
    "\n",
    "print(\"\\nParámetros de beta-tin:\")\n",
    "print(\"E0 = {:6.4f}\".format(BTparams[0]))\n",
    "print(\"B0 = {:6.4f}\".format(BTparams[1]))\n",
    "print(\"V0 = {:6.4f}\".format(BTparams[2]))\n",
    "print(\"B0' = {:6.4f}\".format(BTparams[3]))"
   ]
  },
  {
   "cell_type": "code",
   "execution_count": 13,
   "metadata": {},
   "outputs": [],
   "source": [
    "plt.rc('text', usetex=True)\n",
    "plt.rc('font', family='serif')\n",
    "plt.rcParams.update({'font.size': 20})\n",
    "\n",
    "npts=100000\n",
    "xfit=np.linspace(5,30,npts)\n",
    "HCP_fit=Birch_Murnaghan(xfit,HCPparams[0],HCPparams[1],HCPparams[2],HCPparams[3])\n",
    "BT_fit=Birch_Murnaghan(xfit,BTparams[0],BTparams[1],BTparams[2],BTparams[3])\n",
    "diam_fit=Birch_Murnaghan(xfit,diamparams[0],diamparams[1],diamparams[2],diamparams[3])"
   ]
  },
  {
   "cell_type": "code",
   "execution_count": 14,
   "metadata": {},
   "outputs": [
    {
     "data": {
      "image/png": "[encoded data removed]",
      "text/plain": [
       "<Figure size 1080x360 with 3 Axes>"
      ]
     },
     "metadata": {
      "needs_background": "light"
     },
     "output_type": "display_data"
    }
   ],
   "source": [
    "fig,axs=plt.subplots(1,3,figsize=(15,5), sharex=True, sharey=True)\n",
    "axs[0].text(25,20,\"(a)\",fontsize=22)\n",
    "axs[0].set_title(r'Diamante')\n",
    "axs[0].plot(diamante[\"Volumen\"][:-2],diamante[\"Energía total\"][:-2],'ko',linestyle='None')\n",
    "axs[0].plot(xfit,diam_fit,'k',linestyle='solid')\n",
    "axs[0].set_ylabel('Energía total (eV)',labelpad=10)\n",
    "axs[0].xaxis.set_major_locator(mticker.MultipleLocator(10));\n",
    "axs[0].xaxis.set_minor_locator(mticker.MultipleLocator(2));\n",
    "axs[0].yaxis.set_major_locator(mticker.MultipleLocator(10));\n",
    "axs[0].yaxis.set_minor_locator(mticker.MultipleLocator(2));\n",
    "axs[0].tick_params(direction='in',which='major',length=8,bottom=True, top=True, left=True, right=True);\n",
    "axs[0].tick_params(direction='in',which='minor',length=5,bottom=True, top=True, left=True, right=True);\n",
    "\n",
    "axs[1].set_title(r'HCP')\n",
    "axs[1].text(25,20,\"(b)\",fontsize=22)\n",
    "axs[1].plot(HCP[\"Volumen\"],HCP[\"Energía total\"],'ro',linestyle='None')\n",
    "axs[1].plot(xfit,HCP_fit,'r',linestyle='solid')\n",
    "axs[1].set_xlabel(r'Volumen (\\AA$^3$)',labelpad=10)\n",
    "axs[1].xaxis.set_major_locator(mticker.MultipleLocator(10));\n",
    "axs[1].xaxis.set_minor_locator(mticker.MultipleLocator(2));\n",
    "axs[1].yaxis.set_major_locator(mticker.MultipleLocator(10));\n",
    "axs[1].yaxis.set_minor_locator(mticker.MultipleLocator(2));\n",
    "axs[1].tick_params(direction='in',which='major',length=8,bottom=True, top=True, left=True, right=True);\n",
    "axs[1].tick_params(direction='in',which='minor',length=5,bottom=True, top=True, left=True, right=True);\n",
    "    \n",
    "axs[2].set_title(r'$\\beta$-tin')\n",
    "axs[2].text(25,20,\"(c)\",fontsize=22)\n",
    "axs[2].plot(beta_tin[\"Volumen\"][:-2],beta_tin[\"Energía total\"][:-2],'go',linestyle='None')\n",
    "axs[2].xaxis.set_major_locator(mticker.MultipleLocator(10));\n",
    "axs[2].xaxis.set_minor_locator(mticker.MultipleLocator(2));\n",
    "axs[2].yaxis.set_major_locator(mticker.MultipleLocator(10));\n",
    "axs[2].yaxis.set_minor_locator(mticker.MultipleLocator(2));\n",
    "axs[2].tick_params(direction='in',which='major',length=8,bottom=True, top=True, left=True, right=True);\n",
    "axs[2].tick_params(direction='in',which='minor',length=5,bottom=True, top=True, left=True, right=True);\n",
    "axs[2].plot(xfit,BT_fit,'g',linestyle='solid')\n",
    "\n",
    "plt.tight_layout()\n",
    "plt.savefig(\"punto5.eps\",bbox_inches='tight')\n",
    "plt.show()"
   ]
  },
  {
   "cell_type": "code",
   "execution_count": 20,
   "metadata": {},
   "outputs": [
    {
     "data": {
      "image/png": "[encoded data removed]",
      "text/plain": [
       "<Figure size 360x360 with 1 Axes>"
      ]
     },
     "metadata": {
      "needs_background": "light"
     },
     "output_type": "display_data"
    }
   ],
   "source": [
    "fig=plt.figure(figsize=(5,5))\n",
    "ax=plt.subplot(111)\n",
    "plt.plot(xfit,diam_fit,'k',linestyle='solid',label='diamante')\n",
    "plt.plot(xfit,BT_fit,'r',linestyle='solid',label=r'$\\beta$-tin')\n",
    "plt.legend(bbox_to_anchor=(0.95, 0.95), loc='upper right', borderaxespad=0.)\n",
    "plt.ylabel('Energía de Gibbs (eV)',labelpad=10)\n",
    "plt.xlabel(r'Volumen (\\AA$^3$)',labelpad=10)\n",
    "ax.xaxis.set_major_locator(mticker.MultipleLocator(10));\n",
    "ax.xaxis.set_minor_locator(mticker.MultipleLocator(2));\n",
    "ax.yaxis.set_major_locator(mticker.MultipleLocator(10));\n",
    "ax.yaxis.set_minor_locator(mticker.MultipleLocator(2));\n",
    "ax.tick_params(direction='in',which='major',length=8,bottom=True, top=True, left=True, right=True);\n",
    "ax.tick_params(direction='in',which='minor',length=5,bottom=True, top=True, left=True, right=True);\n",
    "plt.savefig(\"punto6.eps\",bbox_inches='tight')\n",
    "plt.show()"
   ]
  },
  {
   "cell_type": "code",
   "execution_count": 16,
   "metadata": {},
   "outputs": [],
   "source": [
    "plt.rc('text', usetex=True)\n",
    "plt.rc('font', family='serif')\n",
    "plt.rcParams.update({'font.size': 20})"
   ]
  },
  {
   "cell_type": "code",
   "execution_count": 17,
   "metadata": {},
   "outputs": [
    {
     "data": {
      "image/png": "[encoded data removed]",
      "text/plain": [
       "<Figure size 360x360 with 1 Axes>"
      ]
     },
     "metadata": {
      "needs_background": "light"
     },
     "output_type": "display_data"
    }
   ],
   "source": [
    "fig=plt.figure(figsize=(5,5))\n",
    "ax=plt.subplot(111)\n",
    "plt.plot(xfit,diam_fit+diam_fit*xfit,'k',linestyle='solid',label='diamante')\n",
    "plt.plot(xfit,BT_fit+BT_fit*xfit,'r',linestyle='solid',label=r'$\\beta$-tin')\n",
    "plt.legend(bbox_to_anchor=(0.95, 0.95), loc='upper right', borderaxespad=0.)\n",
    "plt.ylabel('Energía de Gibbs (eV)',labelpad=10)\n",
    "plt.xlabel(r'Volumen (\\AA$^3$)',labelpad=10)\n",
    "ax.xaxis.set_major_locator(mticker.MultipleLocator(10));\n",
    "ax.xaxis.set_minor_locator(mticker.MultipleLocator(2));\n",
    "ax.yaxis.set_major_locator(mticker.MultipleLocator(100));\n",
    "ax.yaxis.set_minor_locator(mticker.MultipleLocator(20));\n",
    "ax.tick_params(direction='in',which='major',length=8,bottom=True, top=True, left=True, right=True);\n",
    "ax.tick_params(direction='in',which='minor',length=5,bottom=True, top=True, left=True, right=True);\n",
    "plt.savefig(\"punto6.eps\",bbox_inches='tight')\n",
    "plt.show()"
   ]
  },
  {
   "cell_type": "code",
   "execution_count": null,
   "metadata": {},
   "outputs": [],
   "source": []
  },
  {
   "cell_type": "code",
   "execution_count": 22,
   "metadata": {},
   "outputs": [
    {
     "ename": "OSError",
     "evalue": "./2.dat not found.",
     "output_type": "error",
     "traceback": [
      "\u001b[0;31m---------------------------------------------------------------------------\u001b[0m",
      "\u001b[0;31mOSError\u001b[0m                                   Traceback (most recent call last)",
      "\u001b[0;32m<ipython-input-22-c74e020cbffa>\u001b[0m in \u001b[0;36m<module>\u001b[0;34m\u001b[0m\n\u001b[1;32m     27\u001b[0m \u001b[0;34m\u001b[0m\u001b[0m\n\u001b[1;32m     28\u001b[0m \u001b[0;31m# Data 14 (Empty grey triangles):\u001b[0m\u001b[0;34m\u001b[0m\u001b[0;34m\u001b[0m\u001b[0;34m\u001b[0m\u001b[0m\n\u001b[0;32m---> 29\u001b[0;31m \u001b[0mV_14\u001b[0m\u001b[0;34m,\u001b[0m \u001b[0mE_14\u001b[0m \u001b[0;34m=\u001b[0m \u001b[0mnp\u001b[0m\u001b[0;34m.\u001b[0m\u001b[0mloadtxt\u001b[0m\u001b[0;34m(\u001b[0m\u001b[0;34m'./2.dat'\u001b[0m\u001b[0;34m,\u001b[0m \u001b[0mskiprows\u001b[0m \u001b[0;34m=\u001b[0m \u001b[0;36m1\u001b[0m\u001b[0;34m)\u001b[0m\u001b[0;34m.\u001b[0m\u001b[0mT\u001b[0m\u001b[0;34m\u001b[0m\u001b[0;34m\u001b[0m\u001b[0m\n\u001b[0m\u001b[1;32m     30\u001b[0m \u001b[0;34m\u001b[0m\u001b[0m\n\u001b[1;32m     31\u001b[0m \u001b[0minit_vals\u001b[0m \u001b[0;34m=\u001b[0m \u001b[0;34m[\u001b[0m\u001b[0mE0_init\u001b[0m\u001b[0;34m,\u001b[0m \u001b[0mV0_init\u001b[0m\u001b[0;34m,\u001b[0m \u001b[0mB0_init\u001b[0m\u001b[0;34m,\u001b[0m \u001b[0mB0_prime_init\u001b[0m\u001b[0;34m]\u001b[0m\u001b[0;34m\u001b[0m\u001b[0;34m\u001b[0m\u001b[0m\n",
      "\u001b[0;32m~/anaconda3/lib/python3.7/site-packages/numpy/lib/npyio.py\u001b[0m in \u001b[0;36mloadtxt\u001b[0;34m(fname, dtype, comments, delimiter, converters, skiprows, usecols, unpack, ndmin, encoding, max_rows)\u001b[0m\n\u001b[1;32m    953\u001b[0m             \u001b[0mfname\u001b[0m \u001b[0;34m=\u001b[0m \u001b[0mos_fspath\u001b[0m\u001b[0;34m(\u001b[0m\u001b[0mfname\u001b[0m\u001b[0;34m)\u001b[0m\u001b[0;34m\u001b[0m\u001b[0;34m\u001b[0m\u001b[0m\n\u001b[1;32m    954\u001b[0m         \u001b[0;32mif\u001b[0m \u001b[0m_is_string_like\u001b[0m\u001b[0;34m(\u001b[0m\u001b[0mfname\u001b[0m\u001b[0;34m)\u001b[0m\u001b[0;34m:\u001b[0m\u001b[0;34m\u001b[0m\u001b[0;34m\u001b[0m\u001b[0m\n\u001b[0;32m--> 955\u001b[0;31m             \u001b[0mfh\u001b[0m \u001b[0;34m=\u001b[0m \u001b[0mnp\u001b[0m\u001b[0;34m.\u001b[0m\u001b[0mlib\u001b[0m\u001b[0;34m.\u001b[0m\u001b[0m_datasource\u001b[0m\u001b[0;34m.\u001b[0m\u001b[0mopen\u001b[0m\u001b[0;34m(\u001b[0m\u001b[0mfname\u001b[0m\u001b[0;34m,\u001b[0m \u001b[0;34m'rt'\u001b[0m\u001b[0;34m,\u001b[0m \u001b[0mencoding\u001b[0m\u001b[0;34m=\u001b[0m\u001b[0mencoding\u001b[0m\u001b[0;34m)\u001b[0m\u001b[0;34m\u001b[0m\u001b[0;34m\u001b[0m\u001b[0m\n\u001b[0m\u001b[1;32m    956\u001b[0m             \u001b[0mfencoding\u001b[0m \u001b[0;34m=\u001b[0m \u001b[0mgetattr\u001b[0m\u001b[0;34m(\u001b[0m\u001b[0mfh\u001b[0m\u001b[0;34m,\u001b[0m \u001b[0;34m'encoding'\u001b[0m\u001b[0;34m,\u001b[0m \u001b[0;34m'latin1'\u001b[0m\u001b[0;34m)\u001b[0m\u001b[0;34m\u001b[0m\u001b[0;34m\u001b[0m\u001b[0m\n\u001b[1;32m    957\u001b[0m             \u001b[0mfh\u001b[0m \u001b[0;34m=\u001b[0m \u001b[0miter\u001b[0m\u001b[0;34m(\u001b[0m\u001b[0mfh\u001b[0m\u001b[0;34m)\u001b[0m\u001b[0;34m\u001b[0m\u001b[0;34m\u001b[0m\u001b[0m\n",
      "\u001b[0;32m~/anaconda3/lib/python3.7/site-packages/numpy/lib/_datasource.py\u001b[0m in \u001b[0;36mopen\u001b[0;34m(path, mode, destpath, encoding, newline)\u001b[0m\n\u001b[1;32m    264\u001b[0m \u001b[0;34m\u001b[0m\u001b[0m\n\u001b[1;32m    265\u001b[0m     \u001b[0mds\u001b[0m \u001b[0;34m=\u001b[0m \u001b[0mDataSource\u001b[0m\u001b[0;34m(\u001b[0m\u001b[0mdestpath\u001b[0m\u001b[0;34m)\u001b[0m\u001b[0;34m\u001b[0m\u001b[0;34m\u001b[0m\u001b[0m\n\u001b[0;32m--> 266\u001b[0;31m     \u001b[0;32mreturn\u001b[0m \u001b[0mds\u001b[0m\u001b[0;34m.\u001b[0m\u001b[0mopen\u001b[0m\u001b[0;34m(\u001b[0m\u001b[0mpath\u001b[0m\u001b[0;34m,\u001b[0m \u001b[0mmode\u001b[0m\u001b[0;34m,\u001b[0m \u001b[0mencoding\u001b[0m\u001b[0;34m=\u001b[0m\u001b[0mencoding\u001b[0m\u001b[0;34m,\u001b[0m \u001b[0mnewline\u001b[0m\u001b[0;34m=\u001b[0m\u001b[0mnewline\u001b[0m\u001b[0;34m)\u001b[0m\u001b[0;34m\u001b[0m\u001b[0;34m\u001b[0m\u001b[0m\n\u001b[0m\u001b[1;32m    267\u001b[0m \u001b[0;34m\u001b[0m\u001b[0m\n\u001b[1;32m    268\u001b[0m \u001b[0;34m\u001b[0m\u001b[0m\n",
      "\u001b[0;32m~/anaconda3/lib/python3.7/site-packages/numpy/lib/_datasource.py\u001b[0m in \u001b[0;36mopen\u001b[0;34m(self, path, mode, encoding, newline)\u001b[0m\n\u001b[1;32m    622\u001b[0m                                       encoding=encoding, newline=newline)\n\u001b[1;32m    623\u001b[0m         \u001b[0;32melse\u001b[0m\u001b[0;34m:\u001b[0m\u001b[0;34m\u001b[0m\u001b[0;34m\u001b[0m\u001b[0m\n\u001b[0;32m--> 624\u001b[0;31m             \u001b[0;32mraise\u001b[0m \u001b[0mIOError\u001b[0m\u001b[0;34m(\u001b[0m\u001b[0;34m\"%s not found.\"\u001b[0m \u001b[0;34m%\u001b[0m \u001b[0mpath\u001b[0m\u001b[0;34m)\u001b[0m\u001b[0;34m\u001b[0m\u001b[0;34m\u001b[0m\u001b[0m\n\u001b[0m\u001b[1;32m    625\u001b[0m \u001b[0;34m\u001b[0m\u001b[0m\n\u001b[1;32m    626\u001b[0m \u001b[0;34m\u001b[0m\u001b[0m\n",
      "\u001b[0;31mOSError\u001b[0m: ./2.dat not found."
     ]
    }
   ],
   "source": [
    "import numpy as np\n",
    "from scipy.optimize import curve_fit\n",
    "import matplotlib.pyplot as plt\n",
    "from matplotlib.font_manager import FontProperties\n",
    "import sys\n",
    "from sympy import *\n",
    "import sympy as sym\n",
    "import os\n",
    "import pickle as pl\n",
    "\n",
    "\n",
    "# Intial candidates for fit, per FU: - thus, the E vs V input data has to be per FU\n",
    "E0_init = -941.510817926696  # -1882.50963222/2.0 \n",
    "V0_init = 63.54960592453 #125.8532/2.0 \n",
    "B0_init = 76.3746233515232 #74.49 \n",
    "B0_prime_init = 4.05340727164527 #4.15\n",
    "\n",
    "def BM(x, a, b, c, d):\n",
    "         return  a + b*x + c*x**2 + d*x**3 \n",
    "\n",
    "def devBM(x, b, c, d):\n",
    "         return  b + 2*c*x + 3*d*x**2 \n",
    "\n",
    "# Data 1 (Red triangles): \n",
    "V_C_I=diamante[\"Volumen\"]\n",
    "E_C_I = diamante[\"Energía total\"]\n",
    "\n",
    "# Data 14 (Empty grey triangles):\n",
    "V_14=diamante[\"Volumen\"]\n",
    "E_14 = diamante[\"Energía total\"]\n",
    "\n",
    "init_vals = [E0_init, V0_init, B0_init, B0_prime_init]\n",
    "popt_C_I, pcov_C_I = curve_fit(BM, V_C_I, E_C_I, p0=init_vals)\n",
    "popt_14, pcov_14 = curve_fit(BM, V_14, E_14, p0=init_vals)\n",
    "\n",
    "\n",
    "def equations(p):\n",
    "    x1, x2 = p\n",
    "    E1 = devBM(x1, popt_C_I[1], popt_C_I[2], popt_C_I[3]) - devBM(x2, popt_14[1], popt_14[2], popt_14[3])\n",
    "    E2 = ((BM(x1, popt_C_I[0], popt_C_I[1], popt_C_I[2], popt_C_I[3]) - BM(x2, popt_14[0], popt_14[1], popt_14[2], popt_14[3])) / (x1 - x2)) - devBM(x1, popt_C_I[1], popt_C_I[2], popt_C_I[3])\n",
    "    return (E1, E2)\n",
    "\n",
    "from scipy.optimize import least_squares\n",
    "lb = (61.0, 59.0)   # lower bounds on x1, x2\n",
    "ub = (62.0, 60.0)   # upper bounds\n",
    "result = least_squares(equations, [61, 59], bounds=(lb, ub))\n",
    "result_tight_tols = least_squares(equations, [61, 59], ftol=1e-12, xtol=1e-12, gtol=1e-12, bounds=(lb, ub))\n",
    "\n",
    "print( \"\"\"\n",
    "####  ftol=1e-08, xtol=1e-08, gtol=1e-08  #####\n",
    "\"\"\")\n",
    "print ('result = ', result)\n",
    "print( 'result.x = ', result.x)\n",
    "print( \"\"\"\n",
    "\n",
    "\"\"\")\n",
    "x1 = result.x[0]\n",
    "x2 = result.x[1]\n",
    "\n",
    "slope_common_tangent = devBM(x1, popt_C_I[1], popt_C_I[2], popt_C_I[3])\n",
    "print ('slope_common_tangent = ', slope_common_tangent)\n",
    "\n",
    "def comm_tangent(x, x1, slope_common_tangent):\n",
    "    return BM(x1, popt_C_I[0], popt_C_I[1], popt_C_I[2], popt_C_I[3]) - slope_common_tangent * x1 + slope_common_tangent * x\n",
    "\n",
    "# Linspace for plotting the fitting curves:\n",
    "V_C_I_lin = np.linspace(V_C_I[0]-2, V_C_I[-1], 10000)\n",
    "V_14_lin = np.linspace(V_14[0], V_14[-1]+2, 10000)\n",
    "\n",
    "\n",
    "plt.figure()\n",
    "\n",
    "# Plotting the fitting curves:\n",
    "p2, = plt.plot(V_C_I_lin, BM(V_C_I_lin, *popt_C_I), color='black' )\n",
    "p6, = plt.plot(V_14_lin, BM(V_14_lin, *popt_14), 'b' )\n",
    "\n",
    "xp = np.linspace(54, 68, 100)\n",
    "pcomm_tangent, = plt.plot(xp, comm_tangent(xp, x1, slope_common_tangent), 'green', label='Common tangent')\n",
    "\n",
    "# Plotting the scattered points: \n",
    "p1 = plt.scatter(V_C_I, E_C_I, color='red', marker=\"^\", label='1', s=100)\n",
    "p5 = plt.scatter(V_14, E_14, color='grey', marker=\"^\", facecolors='none', label='2', s=100)\n",
    "\n",
    "fontP = FontProperties()\n",
    "fontP.set_size('13')\n",
    "\n",
    "plt.legend((p1, p2, p5, p6, pcomm_tangent), (\"1\", \"Cubic fit 1\", \"2\", 'Cubic fit 2', 'Common tangent'), prop=fontP)\n",
    "plt.title('Least squares. Default tolerances: ftol=1e-08, xtol=1e-08, gtol=1e-08')\n",
    "\n",
    "plt.ticklabel_format(useOffset=False)\n",
    "\n",
    "### Tighter tolerances:\n",
    "print (\"\"\"\n",
    "####  ftol=1e-12, xtol=1e-12, gtol=1e-12  #####\n",
    "\"\"\")\n",
    "print( 'result_tight_tols = ', result_tight_tols)\n",
    "print( 'result_tight_tols.x = ', result_tight_tols.x)\n",
    "print( \"\"\"\n",
    "\n",
    "\"\"\")\n",
    "x1 = result_tight_tols.x[0]\n",
    "x2 = result_tight_tols.x[1]\n",
    "\n",
    "slope_common_tangent = devBM(x1, popt_C_I[1], popt_C_I[2], popt_C_I[3])\n",
    "print( 'slope_common_tangent = ', slope_common_tangent)\n",
    "\n",
    "def comm_tangent(x, x1, slope_common_tangent):\n",
    "    return BM(x1, popt_C_I[0], popt_C_I[1], popt_C_I[2], popt_C_I[3]) - slope_common_tangent * x1 + slope_common_tangent * x\n",
    "\n",
    "# Linspace for plotting the fitting curves:\n",
    "V_C_I_lin = np.linspace(V_C_I[0]-2, V_C_I[-1], 10000)\n",
    "V_14_lin = np.linspace(V_14[0], V_14[-1]+2, 10000)\n",
    "\n",
    "\n",
    "plt.figure()\n",
    "\n",
    "# Plotting the fitting curves:\n",
    "p2, = plt.plot(V_C_I_lin, BM(V_C_I_lin, *popt_C_I), color='black' )\n",
    "p6, = plt.plot(V_14_lin, BM(V_14_lin, *popt_14), 'b' )\n",
    "\n",
    "xp = np.linspace(54, 68, 100)\n",
    "pcomm_tangent, = plt.plot(xp, comm_tangent(xp, x1, slope_common_tangent), 'green', label='Common tangent')\n",
    "\n",
    "# Plotting the scattered points: \n",
    "p1 = plt.scatter(V_C_I, E_C_I, color='red', marker=\"^\", label='1', s=100)\n",
    "p5 = plt.scatter(V_14, E_14, color='grey', marker=\"^\", facecolors='none', label='2', s=100)\n",
    "\n",
    "fontP = FontProperties()\n",
    "fontP.set_size('13')\n",
    "\n",
    "plt.legend((p1, p2, p5, p6, pcomm_tangent), (\"1\", \"Cubic fit 1\", \"2\", 'Cubic fit 2', 'Common tangent'), prop=fontP)\n",
    "plt.title('ftol=1e-08, xtol=1e-08, gtol=1e-08')\n",
    "\n",
    "plt.ticklabel_format(useOffset=False)\n",
    "\n",
    "plt.title('Lest Squares. Tightening tolerances: ftol=1e-12, xtol=1e-12, gtol=1e-12')\n",
    "\n",
    "print(\"\"\"\n",
    "#### Using `fsolve`, but restricting the region:  ####\n",
    "\n",
    "\"\"\")\n",
    "\n",
    "from scipy.optimize import fsolve\n",
    "x1, x2 =  fsolve(equations, (61.5, 62))\n",
    "\n",
    "print('x1 = ', x1)\n",
    "print('x2 = ', x2)\n",
    "\n",
    "slope_common_tangent = devBM(x1, popt_C_I[1], popt_C_I[2], popt_C_I[3])\n",
    "print('slope_common_tangent = ', slope_common_tangent)\n",
    "\n",
    "plt.figure()\n",
    "\n",
    "# Plotting the fitting curves:\n",
    "p2, = plt.plot(V_C_I_lin, BM(V_C_I_lin, *popt_C_I), color='black' )\n",
    "p6, = plt.plot(V_14_lin, BM(V_14_lin, *popt_14), 'b' )\n",
    "\n",
    "xp = np.linspace(54, 68, 100)\n",
    "pcomm_tangent, = plt.plot(xp, comm_tangent(xp, x1, slope_common_tangent), 'green', label='Common tangent')\n",
    "\n",
    "# Plotting the scattered points: \n",
    "p1 = plt.scatter(V_C_I, E_C_I, color='red', marker=\"^\", label='1', s=100)\n",
    "p5 = plt.scatter(V_14, E_14, color='grey', marker=\"^\", facecolors='none', label='2', s=100)\n",
    "\n",
    "fontP = FontProperties()\n",
    "fontP.set_size('13')\n",
    "\n",
    "plt.legend((p1, p2, p5, p6, pcomm_tangent), (\"1\", \"Cubic fit 1\", \"2\", 'Cubic fit 2', 'Common tangent'), prop=fontP)\n",
    "plt.ticklabel_format(useOffset=False)\n",
    "\n",
    "plt.title('Using `fsolve`, but restricting the region')\n",
    "\n",
    "\n",
    "\n",
    "plt.show()"
   ]
  },
  {
   "cell_type": "code",
   "execution_count": null,
   "metadata": {},
   "outputs": [],
   "source": []
  },
  {
   "cell_type": "code",
   "execution_count": null,
   "metadata": {},
   "outputs": [],
   "source": []
  },
  {
   "cell_type": "code",
   "execution_count": 185,
   "metadata": {},
   "outputs": [],
   "source": [
    "import sympy as sym\n",
    "from sympy import Symbol\n",
    "from sympy.solvers import solve"
   ]
  },
  {
   "cell_type": "code",
   "execution_count": 267,
   "metadata": {},
   "outputs": [],
   "source": [
    "x=Symbol('x')\n",
    "fdiam=Birch_Murnaghan(x,diamparams[0],diamparams[1],diamparams[2],diamparams[3])\n",
    "fdiam_prime=-fdiam.diff(x)\n",
    "fbeta=Birch_Murnaghan(x,BTparams[0],BTparams[1],BTparams[2],BTparams[3])\n",
    "fbeta_prime=-fbeta.diff(x)\n",
    "gdiam=fdiam+fdiam_prime*x\n",
    "gbeta=fbeta+fbeta_prime*x"
   ]
  },
  {
   "cell_type": "code",
   "execution_count": 186,
   "metadata": {},
   "outputs": [
    {
     "data": {
      "text/plain": [
       "(-1817.54795569475*(1/x)**0.666666666666667 + 362.649664195739)*(7.51778424940333*(1/x)**0.666666666666667 - 1.0)**1.0*(1/x)**0.666666666666667 + (-181.324832097869*(1/x)**0.666666666666667 + 36.1791771516177)*(7.51778424940333*(1/x)**0.666666666666667 - 1.0)**2.0 + 246.990115799413*(7.51778424940333*(1/x)**0.666666666666667 - 1.0)**2.0*(1/x)**0.666666666666667 + 24.4668724848808*(7.51778424940333*(1/x)**0.666666666666667 - 1.0)**3.0 - 5.41994731532317"
      ]
     },
     "execution_count": 186,
     "metadata": {},
     "output_type": "execute_result"
    }
   ],
   "source": [
    "sym.simplify(gdiam)"
   ]
  },
  {
   "cell_type": "code",
   "execution_count": 272,
   "metadata": {},
   "outputs": [
    {
     "data": {
      "text/plain": [
       "49.0293439913502*(-24.7184631496109*(1/x)**0.666666666666667 + 6.0)*(6.17961578740273*(1/x)**0.666666666666667 - 1.0)**1.0*(1/x)**0.666666666666667/x + 194.491709063869*(6.17961578740273*(1/x)**0.666666666666667 - 1.0)**2.0*(1/x)**0.666666666666667/x"
      ]
     },
     "execution_count": 272,
     "metadata": {},
     "output_type": "execute_result"
    }
   ],
   "source": [
    "fbeta_prime"
   ]
  },
  {
   "cell_type": "code",
   "execution_count": 269,
   "metadata": {},
   "outputs": [],
   "source": [
    "def fdiam_p(x):\n",
    "    return 60.4416106992898*(-30.0711369976133*(1/x)**0.666666666666667 + 6.0)*(7.51778424940333*(1/x)**0.666666666666667 - 1.0)**1.0*(1/x)**0.666666666666667/x + 246.990115799413*(7.51778424940333*(1/x)**0.666666666666667 - 1.0)**2.0*(1/x)**0.666666666666667/x"
   ]
  },
  {
   "cell_type": "code",
   "execution_count": 270,
   "metadata": {},
   "outputs": [
    {
     "data": {
      "text/plain": [
       "0.17156403239418191"
      ]
     },
     "execution_count": 270,
     "metadata": {},
     "output_type": "execute_result"
    }
   ],
   "source": [
    "fdiam_p(16.6482)"
   ]
  },
  {
   "cell_type": "code",
   "execution_count": 273,
   "metadata": {},
   "outputs": [],
   "source": [
    "def fbeta_p(x):\n",
    "    return 49.0293439913502*(-24.7184631496109*(1/x)**0.666666666666667 + 6.0)*(6.17961578740273*(1/x)**0.666666666666667 - 1.0)**1.0*(1/x)**0.666666666666667/x + 194.491709063869*(6.17961578740273*(1/x)**0.666666666666667 - 1.0)**2.0*(1/x)**0.666666666666667/x"
   ]
  },
  {
   "cell_type": "code",
   "execution_count": 274,
   "metadata": {},
   "outputs": [
    {
     "data": {
      "text/plain": [
       "-0.04719779298523407"
      ]
     },
     "execution_count": 274,
     "metadata": {},
     "output_type": "execute_result"
    }
   ],
   "source": [
    "fbeta_p(16.6482)"
   ]
  },
  {
   "cell_type": "code",
   "execution_count": null,
   "metadata": {},
   "outputs": [],
   "source": []
  },
  {
   "cell_type": "code",
   "execution_count": null,
   "metadata": {},
   "outputs": [],
   "source": []
  },
  {
   "cell_type": "code",
   "execution_count": null,
   "metadata": {},
   "outputs": [],
   "source": []
  },
  {
   "cell_type": "code",
   "execution_count": 193,
   "metadata": {},
   "outputs": [
    {
     "data": {
      "text/plain": [
       "-x*(60.4416106992898*(-30.0711369976133*(1/x)**0.666666666666667 + 6.0)*(7.51778424940333*(1/x)**0.666666666666667 - 1.0)**1.0*(1/x)**0.666666666666667/x + 246.990115799413*(7.51778424940333*(1/x)**0.666666666666667 - 1.0)**2.0*(1/x)**0.666666666666667/x) + 6.02986285860294*(-30.0711369976133*(1/x)**0.666666666666667 + 6.0)*(7.51778424940333*(1/x)**0.666666666666667 - 1.0)**2.0 + 24.4668724848808*(7.51778424940333*(1/x)**0.666666666666667 - 1.0)**3.0 - 5.41994731532317"
      ]
     },
     "execution_count": 193,
     "metadata": {},
     "output_type": "execute_result"
    }
   ],
   "source": [
    "fdiam-fdiam_prime*x"
   ]
  },
  {
   "cell_type": "code",
   "execution_count": null,
   "metadata": {},
   "outputs": [],
   "source": []
  },
  {
   "cell_type": "code",
   "execution_count": 110,
   "metadata": {},
   "outputs": [],
   "source": [
    "def P_diam(x):\n",
    "    y=-60.4416106992898*(-30.0711369976133*(1/x)**0.666666666666667 + 6.0)*(7.51778424940333*(1/x)**0.666666666666667 - 1.0)**1.0*(1/x)**0.666666666666667/x - 246.990115799413*(7.51778424940333*(1/x)**0.666666666666667 - 1.0)**2.0*(1/x)**0.666666666666667/x\n",
    "    return -y\n",
    "\n",
    "def P_beta(x):\n",
    "    y=-49.0293439913502*(-24.7184631496109*(1/x)**0.666666666666667 + 6.0)*(6.17961578740273*(1/x)**0.666666666666667 - 1.0)**1.0*(1/x)**0.666666666666667/x - 194.491709063869*(6.17961578740273*(1/x)**0.666666666666667 - 1.0)**2.0*(1/x)**0.666666666666667/x\n",
    "    return -y"
   ]
  },
  {
   "cell_type": "code",
   "execution_count": null,
   "metadata": {},
   "outputs": [],
   "source": []
  },
  {
   "cell_type": "code",
   "execution_count": 194,
   "metadata": {},
   "outputs": [],
   "source": [
    "def G_diam(x):\n",
    "    return -x*(60.4416106992898*(-30.0711369976133*(1/x)**0.666666666666667 + 6.0)*(7.51778424940333*(1/x)**0.666666666666667 - 1.0)**1.0*(1/x)**0.666666666666667/x + 246.990115799413*(7.51778424940333*(1/x)**0.666666666666667 - 1.0)**2.0*(1/x)**0.666666666666667/x) + 6.02986285860294*(-30.0711369976133*(1/x)**0.666666666666667 + 6.0)*(7.51778424940333*(1/x)**0.666666666666667 - 1.0)**2.0 + 24.4668724848808*(7.51778424940333*(1/x)**0.666666666666667 - 1.0)**3.0 - 5.41994731532317"
   ]
  },
  {
   "cell_type": "code",
   "execution_count": 266,
   "metadata": {},
   "outputs": [
    {
     "data": {
      "image/png": "[encoded data removed]",
      "text/plain": [
       "<Figure size 360x360 with 1 Axes>"
      ]
     },
     "metadata": {
      "needs_background": "light"
     },
     "output_type": "display_data"
    }
   ],
   "source": [
    "%matplotlib inline\n",
    "fig=plt.figure(figsize=(5,5))\n",
    "ax=plt.subplot(111)\n",
    "plt.plot(xfit,diam_fit+diam_fit*xfit,'k',linestyle='solid',label='diamante')\n",
    "# plt.plot(xfit,diam_fit+diam_fit*xfit,'k',linestyle='solid',label='diamante')\n",
    "plt.plot(xfit,BT_fit+BT_fit*xfit,'r',linestyle='solid',label=r'$\\beta$-tin')\n",
    "plt.legend(bbox_to_anchor=(0.95, 0.95), loc='upper right', borderaxespad=0.)\n",
    "plt.ylabel('Energía de Gibbs (eV)',labelpad=10)\n",
    "plt.xlabel(r'Volumen (\\AA$^3$)',labelpad=10)\n",
    "ax.xaxis.set_major_locator(mticker.MultipleLocator(10));\n",
    "ax.xaxis.set_minor_locator(mticker.MultipleLocator(2));\n",
    "ax.yaxis.set_major_locator(mticker.MultipleLocator(100));\n",
    "ax.yaxis.set_minor_locator(mticker.MultipleLocator(20));\n",
    "ax.tick_params(direction='in',which='major',length=8,bottom=True, top=True, left=True, right=True);\n",
    "ax.tick_params(direction='in',which='minor',length=5,bottom=True, top=True, left=True, right=True);\n",
    "plt.savefig(\"punto6.eps\",bbox_inches='tight')\n",
    "plt.show()"
   ]
  },
  {
   "cell_type": "code",
   "execution_count": 220,
   "metadata": {},
   "outputs": [],
   "source": [
    "eps=diam_fit+diam_fit*xfit-(BT_fit+BT_fit*xfit)"
   ]
  },
  {
   "cell_type": "code",
   "execution_count": 221,
   "metadata": {},
   "outputs": [
    {
     "name": "stdout",
     "output_type": "stream",
     "text": [
      "16.648116481164813\n",
      "16.648366483664837\n"
     ]
    }
   ],
   "source": [
    "for i in range(npts):\n",
    "    if (eps[i] < 0.001) & (eps[i]>-0.001):\n",
    "        print(xfit[i])"
   ]
  },
  {
   "cell_type": "code",
   "execution_count": 210,
   "metadata": {},
   "outputs": [
    {
     "name": "stdout",
     "output_type": "stream",
     "text": [
      "Using matplotlib backend: Qt5Agg\n"
     ]
    }
   ],
   "source": [
    "%matplotlib auto\n",
    "plt.plot(xfit,eps)\n",
    "plt.show()"
   ]
  },
  {
   "cell_type": "code",
   "execution_count": null,
   "metadata": {},
   "outputs": [],
   "source": []
  },
  {
   "cell_type": "code",
   "execution_count": null,
   "metadata": {},
   "outputs": [],
   "source": []
  },
  {
   "cell_type": "code",
   "execution_count": 230,
   "metadata": {},
   "outputs": [],
   "source": [
    "x=Symbol('x')\n",
    "E0D=Symbol('E0D')\n",
    "B0D=Symbol('B0D')\n",
    "V0D=Symbol('V0D')\n",
    "B0pD=Symbol('B0pD')\n",
    "E0b=Symbol('E0b')\n",
    "B0b=Symbol('B0b')\n",
    "V0b=Symbol('V0b')\n",
    "B0pb=Symbol('B0pb')\n",
    "Ediam=Birch_Murnaghan(x,E0D,B0D,V0D,B0pD)\n",
    "dEdiam=-Ediam.diff(x)\n",
    "Ebeta=Birch_Murnaghan(x,E0b,B0b,V0b,B0pb)\n",
    "dEbeta=-Ebeta.diff(x)\n",
    "fgdiam=Ediam+dEdiam*x\n",
    "fgbeta=Ebeta+dEbeta*x"
   ]
  },
  {
   "cell_type": "code",
   "execution_count": 241,
   "metadata": {},
   "outputs": [],
   "source": [
    "eps=fgdiam-fgbeta"
   ]
  },
  {
   "cell_type": "code",
   "execution_count": 242,
   "metadata": {},
   "outputs": [
    {
     "data": {
      "text/plain": [
       "-0.5625*B0D*V0D*(V0D/x)**0.666666666666667*(-2.0*B0pD*((V0D/x)**0.666666666666667 - 1.0)**2.0 + ((V0D/x)**0.666666666666667 - 1.0)**1.0*(5.33333333333333*(V0D/x)**0.666666666666667 - 8.0) + 2.66666666666667*((V0D/x)**0.666666666666667 - 1.0)**2.0) + 0.5625*B0D*V0D*(B0pD*((V0D/x)**0.666666666666667 - 1.0)**3.0 - ((V0D/x)**0.666666666666667 - 1.0)**2.0*(4.0*(V0D/x)**0.666666666666667 - 6.0)) + 0.5625*B0b*V0b*(V0b/x)**0.666666666666667*(-2.0*B0pb*((V0b/x)**0.666666666666667 - 1.0)**2.0 + ((V0b/x)**0.666666666666667 - 1.0)**1.0*(5.33333333333333*(V0b/x)**0.666666666666667 - 8.0) + 2.66666666666667*((V0b/x)**0.666666666666667 - 1.0)**2.0) - 0.5625*B0b*V0b*(B0pb*((V0b/x)**0.666666666666667 - 1.0)**3.0 - ((V0b/x)**0.666666666666667 - 1.0)**2.0*(4.0*(V0b/x)**0.666666666666667 - 6.0)) + E0D - E0b"
      ]
     },
     "execution_count": 242,
     "metadata": {},
     "output_type": "execute_result"
    }
   ],
   "source": [
    "sym.simplify(eps)"
   ]
  },
  {
   "cell_type": "code",
   "execution_count": 256,
   "metadata": {},
   "outputs": [],
   "source": [
    "def feps(x,E0D,B0D,V0D,B0pD,E0b,B0b,V0b,B0pb):\n",
    "    return -0.5625*B0D*V0D*(V0D/x)**0.666666666666667*(-2.0*B0pD*((V0D/x)**0.666666666666667 - 1.0)**2.0 + ((V0D/x)**0.666666666666667 - 1.0)**1.0*(5.33333333333333*(V0D/x)**0.666666666666667 - 8.0) + 2.66666666666667*((V0D/x)**0.666666666666667 - 1.0)**2.0) + 0.5625*B0D*V0D*(B0pD*((V0D/x)**0.666666666666667 - 1.0)**3.0 - ((V0D/x)**0.666666666666667 - 1.0)**2.0*(4.0*(V0D/x)**0.666666666666667 - 6.0)) + 0.5625*B0b*V0b*(V0b/x)**0.666666666666667*(-2.0*B0pb*((V0b/x)**0.666666666666667 - 1.0)**2.0 + ((V0b/x)**0.666666666666667 - 1.0)**1.0*(5.33333333333333*(V0b/x)**0.666666666666667 - 8.0) + 2.66666666666667*((V0b/x)**0.666666666666667 - 1.0)**2.0) - 0.5625*B0b*V0b*(B0pb*((V0b/x)**0.666666666666667 - 1.0)**3.0 - ((V0b/x)**0.666666666666667 - 1.0)**2.0*(4.0*(V0b/x)**0.666666666666667 - 6.0)) + E0D - E0b"
   ]
  },
  {
   "cell_type": "code",
   "execution_count": 247,
   "metadata": {},
   "outputs": [],
   "source": [
    "neweps=feps(x,diamparams[0],diamparams[1],diamparams[2],diamparams[3],BTparams[0],BTparams[1],BTparams[2],BTparams[3])\n",
    "simplifyeps=sym.simplify(neweps)"
   ]
  },
  {
   "cell_type": "code",
   "execution_count": null,
   "metadata": {},
   "outputs": [],
   "source": []
  },
  {
   "cell_type": "code",
   "execution_count": null,
   "metadata": {},
   "outputs": [],
   "source": []
  },
  {
   "cell_type": "code",
   "execution_count": null,
   "metadata": {},
   "outputs": [],
   "source": []
  },
  {
   "cell_type": "code",
   "execution_count": 260,
   "metadata": {},
   "outputs": [
    {
     "data": {
      "text/plain": [
       "-5.136242080180033"
      ]
     },
     "execution_count": 260,
     "metadata": {},
     "output_type": "execute_result"
    }
   ],
   "source": [
    "Birch_Murnaghan(16.6482,\n",
    "     diamparams[0],diamparams[1],diamparams[2],diamparams[3])"
   ]
  },
  {
   "cell_type": "code",
   "execution_count": 264,
   "metadata": {},
   "outputs": [
    {
     "data": {
      "text/plain": [
       "-5.136269273514411"
      ]
     },
     "execution_count": 264,
     "metadata": {},
     "output_type": "execute_result"
    }
   ],
   "source": [
    "Birch_Murnaghan(16.6482,\n",
    "     BTparams[0],BTparams[1],BTparams[2],BTparams[3])"
   ]
  },
  {
   "cell_type": "code",
   "execution_count": null,
   "metadata": {},
   "outputs": [],
   "source": []
  },
  {
   "cell_type": "code",
   "execution_count": null,
   "metadata": {},
   "outputs": [],
   "source": []
  }
 ],
 "metadata": {
  "kernelspec": {
   "display_name": "Python 3",
   "language": "python",
   "name": "python3"
  },
  "language_info": {
   "codemirror_mode": {
    "name": "ipython",
    "version": 3
   },
   "file_extension": ".py",
   "mimetype": "text/x-python",
   "name": "python",
   "nbconvert_exporter": "python",
   "pygments_lexer": "ipython3",
   "version": "3.7.3"
  }
 },
 "nbformat": 4,
 "nbformat_minor": 2
}
