{
 "cells": [
  {
   "cell_type": "code",
   "execution_count": 162,
   "metadata": {},
   "outputs": [],
   "source": [
    "import numpy as np\n",
    "import matplotlib.pyplot as plt\n",
    "import pandas as pd\n",
    "import matplotlib.ticker as mticker"
   ]
  },
  {
   "cell_type": "code",
   "execution_count": 2,
   "metadata": {},
   "outputs": [],
   "source": [
    "diamante=pd.read_csv(\"diamante/conv_ALAT/volEtot.dat\",sep='\\s+',header=None)\n",
    "diamante.columns=['ALAT','Volumen','Energía total']"
   ]
  },
  {
   "cell_type": "code",
   "execution_count": 3,
   "metadata": {},
   "outputs": [
    {
     "data": {
      "text/html": [
       "<div>\n",
       "<style scoped>\n",
       "    .dataframe tbody tr th:only-of-type {\n",
       "        vertical-align: middle;\n",
       "    }\n",
       "\n",
       "    .dataframe tbody tr th {\n",
       "        vertical-align: top;\n",
       "    }\n",
       "\n",
       "    .dataframe thead th {\n",
       "        text-align: right;\n",
       "    }\n",
       "</style>\n",
       "<table border=\"1\" class=\"dataframe\">\n",
       "  <thead>\n",
       "    <tr style=\"text-align: right;\">\n",
       "      <th></th>\n",
       "      <th>ALAT</th>\n",
       "      <th>Volumen</th>\n",
       "      <th>Energía total</th>\n",
       "    </tr>\n",
       "  </thead>\n",
       "  <tbody>\n",
       "    <tr>\n",
       "      <th>0</th>\n",
       "      <td>4.40</td>\n",
       "      <td>10.650</td>\n",
       "      <td>-1.682994</td>\n",
       "    </tr>\n",
       "    <tr>\n",
       "      <th>1</th>\n",
       "      <td>4.60</td>\n",
       "      <td>12.165</td>\n",
       "      <td>-3.236655</td>\n",
       "    </tr>\n",
       "    <tr>\n",
       "      <th>2</th>\n",
       "      <td>4.80</td>\n",
       "      <td>13.825</td>\n",
       "      <td>-4.275415</td>\n",
       "    </tr>\n",
       "    <tr>\n",
       "      <th>3</th>\n",
       "      <td>5.00</td>\n",
       "      <td>15.625</td>\n",
       "      <td>-4.925580</td>\n",
       "    </tr>\n",
       "    <tr>\n",
       "      <th>4</th>\n",
       "      <td>5.20</td>\n",
       "      <td>17.575</td>\n",
       "      <td>-5.279724</td>\n",
       "    </tr>\n",
       "    <tr>\n",
       "      <th>5</th>\n",
       "      <td>5.30</td>\n",
       "      <td>18.610</td>\n",
       "      <td>-5.371074</td>\n",
       "    </tr>\n",
       "    <tr>\n",
       "      <th>6</th>\n",
       "      <td>5.40</td>\n",
       "      <td>19.685</td>\n",
       "      <td>-5.416526</td>\n",
       "    </tr>\n",
       "    <tr>\n",
       "      <th>7</th>\n",
       "      <td>5.45</td>\n",
       "      <td>20.235</td>\n",
       "      <td>-5.424330</td>\n",
       "    </tr>\n",
       "    <tr>\n",
       "      <th>8</th>\n",
       "      <td>5.50</td>\n",
       "      <td>20.795</td>\n",
       "      <td>-5.423298</td>\n",
       "    </tr>\n",
       "    <tr>\n",
       "      <th>9</th>\n",
       "      <td>5.60</td>\n",
       "      <td>21.950</td>\n",
       "      <td>-5.397779</td>\n",
       "    </tr>\n",
       "    <tr>\n",
       "      <th>10</th>\n",
       "      <td>5.70</td>\n",
       "      <td>23.150</td>\n",
       "      <td>-5.345616</td>\n",
       "    </tr>\n",
       "    <tr>\n",
       "      <th>11</th>\n",
       "      <td>5.90</td>\n",
       "      <td>25.670</td>\n",
       "      <td>-5.180627</td>\n",
       "    </tr>\n",
       "    <tr>\n",
       "      <th>12</th>\n",
       "      <td>6.10</td>\n",
       "      <td>28.375</td>\n",
       "      <td>-4.961070</td>\n",
       "    </tr>\n",
       "    <tr>\n",
       "      <th>13</th>\n",
       "      <td>6.30</td>\n",
       "      <td>31.255</td>\n",
       "      <td>-4.711050</td>\n",
       "    </tr>\n",
       "    <tr>\n",
       "      <th>14</th>\n",
       "      <td>6.50</td>\n",
       "      <td>34.330</td>\n",
       "      <td>-4.447268</td>\n",
       "    </tr>\n",
       "  </tbody>\n",
       "</table>\n",
       "</div>"
      ],
      "text/plain": [
       "    ALAT  Volumen  Energía total\n",
       "0   4.40   10.650      -1.682994\n",
       "1   4.60   12.165      -3.236655\n",
       "2   4.80   13.825      -4.275415\n",
       "3   5.00   15.625      -4.925580\n",
       "4   5.20   17.575      -5.279724\n",
       "5   5.30   18.610      -5.371074\n",
       "6   5.40   19.685      -5.416526\n",
       "7   5.45   20.235      -5.424330\n",
       "8   5.50   20.795      -5.423298\n",
       "9   5.60   21.950      -5.397779\n",
       "10  5.70   23.150      -5.345616\n",
       "11  5.90   25.670      -5.180627\n",
       "12  6.10   28.375      -4.961070\n",
       "13  6.30   31.255      -4.711050\n",
       "14  6.50   34.330      -4.447268"
      ]
     },
     "execution_count": 3,
     "metadata": {},
     "output_type": "execute_result"
    }
   ],
   "source": [
    "diamante"
   ]
  },
  {
   "cell_type": "code",
   "execution_count": 4,
   "metadata": {},
   "outputs": [],
   "source": [
    "HCP=pd.read_csv(\"HCP/volEtot.dat\",sep='\\s+',header=None)\n",
    "HCP.columns=['ALAT','Volumen','Energía total']"
   ]
  },
  {
   "cell_type": "code",
   "execution_count": 5,
   "metadata": {},
   "outputs": [
    {
     "data": {
      "text/html": [
       "<div>\n",
       "<style scoped>\n",
       "    .dataframe tbody tr th:only-of-type {\n",
       "        vertical-align: middle;\n",
       "    }\n",
       "\n",
       "    .dataframe tbody tr th {\n",
       "        vertical-align: top;\n",
       "    }\n",
       "\n",
       "    .dataframe thead th {\n",
       "        text-align: right;\n",
       "    }\n",
       "</style>\n",
       "<table border=\"1\" class=\"dataframe\">\n",
       "  <thead>\n",
       "    <tr style=\"text-align: right;\">\n",
       "      <th></th>\n",
       "      <th>ALAT</th>\n",
       "      <th>Volumen</th>\n",
       "      <th>Energía total</th>\n",
       "    </tr>\n",
       "  </thead>\n",
       "  <tbody>\n",
       "    <tr>\n",
       "      <th>0</th>\n",
       "      <td>2.00</td>\n",
       "      <td>5.655</td>\n",
       "      <td>2.631946</td>\n",
       "    </tr>\n",
       "    <tr>\n",
       "      <th>1</th>\n",
       "      <td>2.10</td>\n",
       "      <td>6.550</td>\n",
       "      <td>-0.150252</td>\n",
       "    </tr>\n",
       "    <tr>\n",
       "      <th>2</th>\n",
       "      <td>2.20</td>\n",
       "      <td>7.530</td>\n",
       "      <td>-2.046808</td>\n",
       "    </tr>\n",
       "    <tr>\n",
       "      <th>3</th>\n",
       "      <td>2.30</td>\n",
       "      <td>8.605</td>\n",
       "      <td>-3.304475</td>\n",
       "    </tr>\n",
       "    <tr>\n",
       "      <th>4</th>\n",
       "      <td>2.40</td>\n",
       "      <td>9.775</td>\n",
       "      <td>-4.110750</td>\n",
       "    </tr>\n",
       "    <tr>\n",
       "      <th>5</th>\n",
       "      <td>2.45</td>\n",
       "      <td>10.400</td>\n",
       "      <td>-4.384128</td>\n",
       "    </tr>\n",
       "    <tr>\n",
       "      <th>6</th>\n",
       "      <td>2.50</td>\n",
       "      <td>11.050</td>\n",
       "      <td>-4.589574</td>\n",
       "    </tr>\n",
       "    <tr>\n",
       "      <th>7</th>\n",
       "      <td>2.52</td>\n",
       "      <td>11.315</td>\n",
       "      <td>-4.654584</td>\n",
       "    </tr>\n",
       "    <tr>\n",
       "      <th>8</th>\n",
       "      <td>2.54</td>\n",
       "      <td>11.585</td>\n",
       "      <td>-4.712506</td>\n",
       "    </tr>\n",
       "    <tr>\n",
       "      <th>9</th>\n",
       "      <td>2.56</td>\n",
       "      <td>11.865</td>\n",
       "      <td>-4.761742</td>\n",
       "    </tr>\n",
       "    <tr>\n",
       "      <th>10</th>\n",
       "      <td>2.58</td>\n",
       "      <td>12.145</td>\n",
       "      <td>-4.803519</td>\n",
       "    </tr>\n",
       "    <tr>\n",
       "      <th>11</th>\n",
       "      <td>2.60</td>\n",
       "      <td>12.430</td>\n",
       "      <td>-4.838436</td>\n",
       "    </tr>\n",
       "    <tr>\n",
       "      <th>12</th>\n",
       "      <td>2.65</td>\n",
       "      <td>13.160</td>\n",
       "      <td>-4.898881</td>\n",
       "    </tr>\n",
       "    <tr>\n",
       "      <th>13</th>\n",
       "      <td>2.70</td>\n",
       "      <td>13.920</td>\n",
       "      <td>-4.926542</td>\n",
       "    </tr>\n",
       "    <tr>\n",
       "      <th>14</th>\n",
       "      <td>2.80</td>\n",
       "      <td>15.520</td>\n",
       "      <td>-4.908162</td>\n",
       "    </tr>\n",
       "    <tr>\n",
       "      <th>15</th>\n",
       "      <td>2.90</td>\n",
       "      <td>17.245</td>\n",
       "      <td>-4.816954</td>\n",
       "    </tr>\n",
       "    <tr>\n",
       "      <th>16</th>\n",
       "      <td>3.00</td>\n",
       "      <td>19.090</td>\n",
       "      <td>-4.675343</td>\n",
       "    </tr>\n",
       "  </tbody>\n",
       "</table>\n",
       "</div>"
      ],
      "text/plain": [
       "    ALAT  Volumen  Energía total\n",
       "0   2.00    5.655       2.631946\n",
       "1   2.10    6.550      -0.150252\n",
       "2   2.20    7.530      -2.046808\n",
       "3   2.30    8.605      -3.304475\n",
       "4   2.40    9.775      -4.110750\n",
       "5   2.45   10.400      -4.384128\n",
       "6   2.50   11.050      -4.589574\n",
       "7   2.52   11.315      -4.654584\n",
       "8   2.54   11.585      -4.712506\n",
       "9   2.56   11.865      -4.761742\n",
       "10  2.58   12.145      -4.803519\n",
       "11  2.60   12.430      -4.838436\n",
       "12  2.65   13.160      -4.898881\n",
       "13  2.70   13.920      -4.926542\n",
       "14  2.80   15.520      -4.908162\n",
       "15  2.90   17.245      -4.816954\n",
       "16  3.00   19.090      -4.675343"
      ]
     },
     "execution_count": 5,
     "metadata": {},
     "output_type": "execute_result"
    }
   ],
   "source": [
    "HCP"
   ]
  },
  {
   "cell_type": "code",
   "execution_count": 11,
   "metadata": {},
   "outputs": [],
   "source": [
    "beta_tin=pd.read_csv(\"beta-tin/volEtot.dat\",sep='\\s+',header=None)\n",
    "beta_tin.columns=['ALAT','Volumen','Energía total']"
   ]
  },
  {
   "cell_type": "code",
   "execution_count": 12,
   "metadata": {},
   "outputs": [
    {
     "data": {
      "text/html": [
       "<div>\n",
       "<style scoped>\n",
       "    .dataframe tbody tr th:only-of-type {\n",
       "        vertical-align: middle;\n",
       "    }\n",
       "\n",
       "    .dataframe tbody tr th {\n",
       "        vertical-align: top;\n",
       "    }\n",
       "\n",
       "    .dataframe thead th {\n",
       "        text-align: right;\n",
       "    }\n",
       "</style>\n",
       "<table border=\"1\" class=\"dataframe\">\n",
       "  <thead>\n",
       "    <tr style=\"text-align: right;\">\n",
       "      <th></th>\n",
       "      <th>ALAT</th>\n",
       "      <th>Volumen</th>\n",
       "      <th>Energía total</th>\n",
       "    </tr>\n",
       "  </thead>\n",
       "  <tbody>\n",
       "    <tr>\n",
       "      <th>0</th>\n",
       "      <td>3.8</td>\n",
       "      <td>7.135</td>\n",
       "      <td>0.089844</td>\n",
       "    </tr>\n",
       "    <tr>\n",
       "      <th>1</th>\n",
       "      <td>4.1</td>\n",
       "      <td>8.960</td>\n",
       "      <td>-2.941875</td>\n",
       "    </tr>\n",
       "    <tr>\n",
       "      <th>2</th>\n",
       "      <td>4.4</td>\n",
       "      <td>11.075</td>\n",
       "      <td>-4.470074</td>\n",
       "    </tr>\n",
       "    <tr>\n",
       "      <th>3</th>\n",
       "      <td>4.6</td>\n",
       "      <td>12.655</td>\n",
       "      <td>-4.952202</td>\n",
       "    </tr>\n",
       "    <tr>\n",
       "      <th>4</th>\n",
       "      <td>4.7</td>\n",
       "      <td>13.495</td>\n",
       "      <td>-5.078688</td>\n",
       "    </tr>\n",
       "    <tr>\n",
       "      <th>5</th>\n",
       "      <td>4.8</td>\n",
       "      <td>14.375</td>\n",
       "      <td>-5.145587</td>\n",
       "    </tr>\n",
       "    <tr>\n",
       "      <th>6</th>\n",
       "      <td>4.9</td>\n",
       "      <td>15.295</td>\n",
       "      <td>-5.163715</td>\n",
       "    </tr>\n",
       "    <tr>\n",
       "      <th>7</th>\n",
       "      <td>5.0</td>\n",
       "      <td>16.250</td>\n",
       "      <td>-5.144433</td>\n",
       "    </tr>\n",
       "    <tr>\n",
       "      <th>8</th>\n",
       "      <td>5.1</td>\n",
       "      <td>17.245</td>\n",
       "      <td>-5.094583</td>\n",
       "    </tr>\n",
       "    <tr>\n",
       "      <th>9</th>\n",
       "      <td>5.2</td>\n",
       "      <td>18.280</td>\n",
       "      <td>-5.019977</td>\n",
       "    </tr>\n",
       "    <tr>\n",
       "      <th>10</th>\n",
       "      <td>5.4</td>\n",
       "      <td>20.470</td>\n",
       "      <td>-4.819020</td>\n",
       "    </tr>\n",
       "    <tr>\n",
       "      <th>11</th>\n",
       "      <td>5.7</td>\n",
       "      <td>24.075</td>\n",
       "      <td>-5.277400</td>\n",
       "    </tr>\n",
       "    <tr>\n",
       "      <th>12</th>\n",
       "      <td>6.0</td>\n",
       "      <td>28.080</td>\n",
       "      <td>-4.975229</td>\n",
       "    </tr>\n",
       "  </tbody>\n",
       "</table>\n",
       "</div>"
      ],
      "text/plain": [
       "    ALAT  Volumen  Energía total\n",
       "0    3.8    7.135       0.089844\n",
       "1    4.1    8.960      -2.941875\n",
       "2    4.4   11.075      -4.470074\n",
       "3    4.6   12.655      -4.952202\n",
       "4    4.7   13.495      -5.078688\n",
       "5    4.8   14.375      -5.145587\n",
       "6    4.9   15.295      -5.163715\n",
       "7    5.0   16.250      -5.144433\n",
       "8    5.1   17.245      -5.094583\n",
       "9    5.2   18.280      -5.019977\n",
       "10   5.4   20.470      -4.819020\n",
       "11   5.7   24.075      -5.277400\n",
       "12   6.0   28.080      -4.975229"
      ]
     },
     "execution_count": 12,
     "metadata": {},
     "output_type": "execute_result"
    }
   ],
   "source": [
    "beta_tin"
   ]
  },
  {
   "cell_type": "code",
   "execution_count": null,
   "metadata": {},
   "outputs": [],
   "source": []
  },
  {
   "cell_type": "code",
   "execution_count": 108,
   "metadata": {},
   "outputs": [
    {
     "name": "stdout",
     "output_type": "stream",
     "text": [
      "Parámetros de diamante:\n",
      "E0 = -5.4199\n",
      "B0 = 0.5201\n",
      "V0 = 20.6127\n",
      "B0' = 4.0576\n",
      "\n",
      "Parámetros de HCP:\n",
      "E0 = -4.9420\n",
      "B0 = 0.5907\n",
      "V0 = 14.3801\n",
      "B0' = 4.1513\n",
      "\n",
      "Parámetros de beta-tin:\n",
      "E0 = -5.1687\n",
      "B0 = 0.6886\n",
      "V0 = 15.3618\n",
      "B0' = 3.9779\n"
     ]
    }
   ],
   "source": [
    "from scipy import optimize\n",
    "\n",
    "def Birch_Murnaghan(x, E0, B0, V0, B0p):\n",
    "    C=9./16.\n",
    "    return E0+C*V0*B0*(B0p*((V0/x)**(2/3)-1.0)**3.+((V0/x)**(2./3.)-1.0)**2.*(6.0-4.0*(V0/x)**(2./3.)))\n",
    "\n",
    "x_data=diamante[\"Volumen\"]\n",
    "y_data=diamante[\"Energía total\"]\n",
    "diamparams, diamparams_covariance = optimize.curve_fit(Birch_Murnaghan, x_data, y_data,p0=[1,1,15,1])\n",
    "\n",
    "print(\"Parámetros de diamante:\")\n",
    "print(\"E0 = {:6.4f}\".format(diamparams[0]))\n",
    "print(\"B0 = {:6.4f}\".format(diamparams[1]))\n",
    "print(\"V0 = {:6.4f}\".format(diamparams[2]))\n",
    "print(\"B0' = {:6.4f}\".format(diamparams[3]))\n",
    "\n",
    "x_data=HCP[\"Volumen\"]\n",
    "y_data=HCP[\"Energía total\"]\n",
    "HCPparams, HCPparams_covariance = optimize.curve_fit(Birch_Murnaghan, x_data, y_data,p0=[1,1,15,1])\n",
    "\n",
    "print(\"\\nParámetros de HCP:\")\n",
    "print(\"E0 = {:6.4f}\".format(HCPparams[0]))\n",
    "print(\"B0 = {:6.4f}\".format(HCPparams[1]))\n",
    "print(\"V0 = {:6.4f}\".format(HCPparams[2]))\n",
    "print(\"B0' = {:6.4f}\".format(HCPparams[3]))\n",
    "\n",
    "x_data=beta_tin[\"Volumen\"][:-2]\n",
    "y_data=beta_tin[\"Energía total\"][:-2]\n",
    "BTparams, BTparams_covariance = optimize.curve_fit(Birch_Murnaghan, x_data, y_data,p0=[1,1,15,1])\n",
    "\n",
    "print(\"\\nParámetros de beta-tin:\")\n",
    "print(\"E0 = {:6.4f}\".format(BTparams[0]))\n",
    "print(\"B0 = {:6.4f}\".format(BTparams[1]))\n",
    "print(\"V0 = {:6.4f}\".format(BTparams[2]))\n",
    "print(\"B0' = {:6.4f}\".format(BTparams[3]))"
   ]
  },
  {
   "cell_type": "code",
   "execution_count": 219,
   "metadata": {},
   "outputs": [],
   "source": [
    "plt.rc('text', usetex=True)\n",
    "plt.rc('font', family='serif')\n",
    "plt.rcParams.update({'font.size': 20})\n",
    "\n",
    "npts=100000\n",
    "xfit=np.linspace(5,30,npts)\n",
    "HCP_fit=Birch_Murnaghan(xfit,HCPparams[0],HCPparams[1],HCPparams[2],HCPparams[3])\n",
    "BT_fit=Birch_Murnaghan(xfit,BTparams[0],BTparams[1],BTparams[2],BTparams[3])\n",
    "diam_fit=Birch_Murnaghan(xfit,diamparams[0],diamparams[1],diamparams[2],diamparams[3])"
   ]
  },
  {
   "cell_type": "code",
   "execution_count": 166,
   "metadata": {},
   "outputs": [
    {
     "data": {
      "image/png": "[encoded data removed]",
      "text/plain": [
       "<Figure size 1080x360 with 3 Axes>"
      ]
     },
     "metadata": {
      "needs_background": "light"
     },
     "output_type": "display_data"
    }
   ],
   "source": [
    "fig,axs=plt.subplots(1,3,figsize=(15,5), sharex=True, sharey=True)\n",
    "axs[0].text(25,20,\"(a)\",fontsize=22)\n",
    "axs[0].set_title(r'Diamante')\n",
    "axs[0].plot(diamante[\"Volumen\"][:-2],diamante[\"Energía total\"][:-2],'ko',linestyle='None')\n",
    "axs[0].plot(xfit,diam_fit,'k',linestyle='solid')\n",
    "axs[0].set_ylabel('Energía total (eV)',labelpad=10)\n",
    "axs[0].xaxis.set_major_locator(mticker.MultipleLocator(10));\n",
    "axs[0].xaxis.set_minor_locator(mticker.MultipleLocator(2));\n",
    "axs[0].yaxis.set_major_locator(mticker.MultipleLocator(10));\n",
    "axs[0].yaxis.set_minor_locator(mticker.MultipleLocator(2));\n",
    "axs[0].tick_params(direction='in',which='major',length=8,bottom=True, top=True, left=True, right=True);\n",
    "axs[0].tick_params(direction='in',which='minor',length=5,bottom=True, top=True, left=True, right=True);\n",
    "\n",
    "axs[1].set_title(r'HCP')\n",
    "axs[1].text(25,20,\"(b)\",fontsize=22)\n",
    "axs[1].plot(HCP[\"Volumen\"],HCP[\"Energía total\"],'ro',linestyle='None')\n",
    "axs[1].plot(xfit,HCP_fit,'r',linestyle='solid')\n",
    "axs[1].set_xlabel(r'Volumen (\\AA$^3$)',labelpad=10)\n",
    "axs[1].xaxis.set_major_locator(mticker.MultipleLocator(10));\n",
    "axs[1].xaxis.set_minor_locator(mticker.MultipleLocator(2));\n",
    "axs[1].yaxis.set_major_locator(mticker.MultipleLocator(10));\n",
    "axs[1].yaxis.set_minor_locator(mticker.MultipleLocator(2));\n",
    "axs[1].tick_params(direction='in',which='major',length=8,bottom=True, top=True, left=True, right=True);\n",
    "axs[1].tick_params(direction='in',which='minor',length=5,bottom=True, top=True, left=True, right=True);\n",
    "    \n",
    "axs[2].set_title(r'$\\beta$-tin')\n",
    "axs[2].text(25,20,\"(c)\",fontsize=22)\n",
    "axs[2].plot(beta_tin[\"Volumen\"][:-2],beta_tin[\"Energía total\"][:-2],'go',linestyle='None')\n",
    "axs[2].xaxis.set_major_locator(mticker.MultipleLocator(10));\n",
    "axs[2].xaxis.set_minor_locator(mticker.MultipleLocator(2));\n",
    "axs[2].yaxis.set_major_locator(mticker.MultipleLocator(10));\n",
    "axs[2].yaxis.set_minor_locator(mticker.MultipleLocator(2));\n",
    "axs[2].tick_params(direction='in',which='major',length=8,bottom=True, top=True, left=True, right=True);\n",
    "axs[2].tick_params(direction='in',which='minor',length=5,bottom=True, top=True, left=True, right=True);\n",
    "axs[2].plot(xfit,BT_fit,'g',linestyle='solid')\n",
    "\n",
    "plt.tight_layout()\n",
    "plt.savefig(\"punto5.eps\",bbox_inches='tight')\n",
    "plt.show()"
   ]
  },
  {
   "cell_type": "code",
   "execution_count": 252,
   "metadata": {},
   "outputs": [],
   "source": [
    "fig=plt.figure(figsize=(5,5))\n",
    "ax=plt.subplot(111)\n",
    "plt.plot(xfit,diam_fit,'k',linestyle='solid',label='diamante')\n",
    "plt.plot(xfit,BT_fit,'r',linestyle='solid',label=r'$\\beta$-tin')\n",
    "plt.legend(bbox_to_anchor=(0.95, 0.95), loc='upper right', borderaxespad=0.)\n",
    "plt.ylabel('Energía de Gibbs (eV)',labelpad=10)\n",
    "plt.xlabel(r'Volumen (\\AA$^3$)',labelpad=10)\n",
    "ax.xaxis.set_major_locator(mticker.MultipleLocator(10));\n",
    "ax.xaxis.set_minor_locator(mticker.MultipleLocator(2));\n",
    "ax.yaxis.set_major_locator(mticker.MultipleLocator(100));\n",
    "ax.yaxis.set_minor_locator(mticker.MultipleLocator(20));\n",
    "ax.tick_params(direction='in',which='major',length=8,bottom=True, top=True, left=True, right=True);\n",
    "ax.tick_params(direction='in',which='minor',length=5,bottom=True, top=True, left=True, right=True);\n",
    "plt.savefig(\"punto6.eps\",bbox_inches='tight')\n",
    "plt.show()"
   ]
  },
  {
   "cell_type": "code",
   "execution_count": 139,
   "metadata": {},
   "outputs": [],
   "source": [
    "plt.rc('text', usetex=True)\n",
    "plt.rc('font', family='serif')\n",
    "plt.rcParams.update({'font.size': 20})"
   ]
  },
  {
   "cell_type": "code",
   "execution_count": 196,
   "metadata": {},
   "outputs": [
    {
     "data": {
      "image/png": "[encoded data removed]",
      "text/plain": [
       "<Figure size 360x360 with 1 Axes>"
      ]
     },
     "metadata": {
      "needs_background": "light"
     },
     "output_type": "display_data"
    }
   ],
   "source": [
    "fig=plt.figure(figsize=(5,5))\n",
    "ax=plt.subplot(111)\n",
    "plt.plot(xfit,diam_fit+diam_fit*xfit,'k',linestyle='solid',label='diamante')\n",
    "plt.plot(xfit,BT_fit+BT_fit*xfit,'r',linestyle='solid',label=r'$\\beta$-tin')\n",
    "plt.legend(bbox_to_anchor=(0.95, 0.95), loc='upper right', borderaxespad=0.)\n",
    "plt.ylabel('Energía de Gibbs (eV)',labelpad=10)\n",
    "plt.xlabel(r'Volumen (\\AA$^3$)',labelpad=10)\n",
    "ax.xaxis.set_major_locator(mticker.MultipleLocator(10));\n",
    "ax.xaxis.set_minor_locator(mticker.MultipleLocator(2));\n",
    "ax.yaxis.set_major_locator(mticker.MultipleLocator(100));\n",
    "ax.yaxis.set_minor_locator(mticker.MultipleLocator(20));\n",
    "ax.tick_params(direction='in',which='major',length=8,bottom=True, top=True, left=True, right=True);\n",
    "ax.tick_params(direction='in',which='minor',length=5,bottom=True, top=True, left=True, right=True);\n",
    "plt.savefig(\"punto6.eps\",bbox_inches='tight')\n",
    "plt.show()"
   ]
  },
  {
   "cell_type": "code",
   "execution_count": null,
   "metadata": {},
   "outputs": [],
   "source": []
  },
  {
   "cell_type": "code",
   "execution_count": null,
   "metadata": {},
   "outputs": [],
   "source": []
  },
  {
   "cell_type": "code",
   "execution_count": null,
   "metadata": {},
   "outputs": [],
   "source": []
  },
  {
   "cell_type": "code",
   "execution_count": null,
   "metadata": {},
   "outputs": [],
   "source": []
  },
  {
   "cell_type": "code",
   "execution_count": 185,
   "metadata": {},
   "outputs": [],
   "source": [
    "import sympy as sym\n",
    "from sympy import Symbol\n",
    "from sympy.solvers import solve"
   ]
  },
  {
   "cell_type": "code",
   "execution_count": 267,
   "metadata": {},
   "outputs": [],
   "source": [
    "x=Symbol('x')\n",
    "fdiam=Birch_Murnaghan(x,diamparams[0],diamparams[1],diamparams[2],diamparams[3])\n",
    "fdiam_prime=-fdiam.diff(x)\n",
    "fbeta=Birch_Murnaghan(x,BTparams[0],BTparams[1],BTparams[2],BTparams[3])\n",
    "fbeta_prime=-fbeta.diff(x)\n",
    "gdiam=fdiam+fdiam_prime*x\n",
    "gbeta=fbeta+fbeta_prime*x"
   ]
  },
  {
   "cell_type": "code",
   "execution_count": 186,
   "metadata": {},
   "outputs": [
    {
     "data": {
      "text/plain": [
       "(-1817.54795569475*(1/x)**0.666666666666667 + 362.649664195739)*(7.51778424940333*(1/x)**0.666666666666667 - 1.0)**1.0*(1/x)**0.666666666666667 + (-181.324832097869*(1/x)**0.666666666666667 + 36.1791771516177)*(7.51778424940333*(1/x)**0.666666666666667 - 1.0)**2.0 + 246.990115799413*(7.51778424940333*(1/x)**0.666666666666667 - 1.0)**2.0*(1/x)**0.666666666666667 + 24.4668724848808*(7.51778424940333*(1/x)**0.666666666666667 - 1.0)**3.0 - 5.41994731532317"
      ]
     },
     "execution_count": 186,
     "metadata": {},
     "output_type": "execute_result"
    }
   ],
   "source": [
    "sym.simplify(gdiam)"
   ]
  },
  {
   "cell_type": "code",
   "execution_count": 272,
   "metadata": {},
   "outputs": [
    {
     "data": {
      "text/plain": [
       "49.0293439913502*(-24.7184631496109*(1/x)**0.666666666666667 + 6.0)*(6.17961578740273*(1/x)**0.666666666666667 - 1.0)**1.0*(1/x)**0.666666666666667/x + 194.491709063869*(6.17961578740273*(1/x)**0.666666666666667 - 1.0)**2.0*(1/x)**0.666666666666667/x"
      ]
     },
     "execution_count": 272,
     "metadata": {},
     "output_type": "execute_result"
    }
   ],
   "source": [
    "fbeta_prime"
   ]
  },
  {
   "cell_type": "code",
   "execution_count": 269,
   "metadata": {},
   "outputs": [],
   "source": [
    "def fdiam_p(x):\n",
    "    return 60.4416106992898*(-30.0711369976133*(1/x)**0.666666666666667 + 6.0)*(7.51778424940333*(1/x)**0.666666666666667 - 1.0)**1.0*(1/x)**0.666666666666667/x + 246.990115799413*(7.51778424940333*(1/x)**0.666666666666667 - 1.0)**2.0*(1/x)**0.666666666666667/x"
   ]
  },
  {
   "cell_type": "code",
   "execution_count": 270,
   "metadata": {},
   "outputs": [
    {
     "data": {
      "text/plain": [
       "0.17156403239418191"
      ]
     },
     "execution_count": 270,
     "metadata": {},
     "output_type": "execute_result"
    }
   ],
   "source": [
    "fdiam_p(16.6482)"
   ]
  },
  {
   "cell_type": "code",
   "execution_count": 273,
   "metadata": {},
   "outputs": [],
   "source": [
    "def fdiam_p(x):\n",
    "    return 60.4416106992898*(-30.0711369976133*(1/x)**0.666666666666667 \n",
    "                             + 6.0)*(7.51778424940333*(1/x)**0.666666666666667 \n",
    "                                     - 1.0)**1.0*(1/x)**0.666666666666667/x \n",
    "            + 246.990115799413*(7.51778424940333*(1/x)**0.666666666666667 \n",
    "                                - 1.0)**2.0*(1/x)**0.666666666666667/x\n",
    "\n",
    "def fbeta_p(x):\n",
    "    return 49.0293439913502*(-24.7184631496109*(1/x)**0.666666666666667 \n",
    "                             + 6.0)*(6.17961578740273*(1/x)**0.666666666666667 \n",
    "                                     - 1.0)**1.0*(1/x)**0.666666666666667/x \n",
    "            + 194.491709063869*(6.17961578740273*(1/x)**0.666666666666667 \n",
    "                                - 1.0)**2.0*(1/x)**0.666666666666667/x"
   ]
  },
  {
   "cell_type": "code",
   "execution_count": 274,
   "metadata": {},
   "outputs": [
    {
     "data": {
      "text/plain": [
       "-0.04719779298523407"
      ]
     },
     "execution_count": 274,
     "metadata": {},
     "output_type": "execute_result"
    }
   ],
   "source": [
    "fbeta_p(16.6482)"
   ]
  },
  {
   "cell_type": "code",
   "execution_count": null,
   "metadata": {},
   "outputs": [],
   "source": []
  },
  {
   "cell_type": "code",
   "execution_count": null,
   "metadata": {},
   "outputs": [],
   "source": []
  },
  {
   "cell_type": "code",
   "execution_count": null,
   "metadata": {},
   "outputs": [],
   "source": []
  },
  {
   "cell_type": "code",
   "execution_count": 193,
   "metadata": {},
   "outputs": [
    {
     "data": {
      "text/plain": [
       "-x*(60.4416106992898*(-30.0711369976133*(1/x)**0.666666666666667 + 6.0)*(7.51778424940333*(1/x)**0.666666666666667 - 1.0)**1.0*(1/x)**0.666666666666667/x + 246.990115799413*(7.51778424940333*(1/x)**0.666666666666667 - 1.0)**2.0*(1/x)**0.666666666666667/x) + 6.02986285860294*(-30.0711369976133*(1/x)**0.666666666666667 + 6.0)*(7.51778424940333*(1/x)**0.666666666666667 - 1.0)**2.0 + 24.4668724848808*(7.51778424940333*(1/x)**0.666666666666667 - 1.0)**3.0 - 5.41994731532317"
      ]
     },
     "execution_count": 193,
     "metadata": {},
     "output_type": "execute_result"
    }
   ],
   "source": [
    "fdiam-fdiam_prime*x"
   ]
  },
  {
   "cell_type": "code",
   "execution_count": null,
   "metadata": {},
   "outputs": [],
   "source": []
  },
  {
   "cell_type": "code",
   "execution_count": 110,
   "metadata": {},
   "outputs": [],
   "source": [
    "def P_diam(x):\n",
    "    y=-60.4416106992898*(-30.0711369976133*(1/x)**0.666666666666667 + 6.0)*(7.51778424940333*(1/x)**0.666666666666667 - 1.0)**1.0*(1/x)**0.666666666666667/x - 246.990115799413*(7.51778424940333*(1/x)**0.666666666666667 - 1.0)**2.0*(1/x)**0.666666666666667/x\n",
    "    return -y\n",
    "\n",
    "def P_beta(x):\n",
    "    y=-49.0293439913502*(-24.7184631496109*(1/x)**0.666666666666667 + 6.0)*(6.17961578740273*(1/x)**0.666666666666667 - 1.0)**1.0*(1/x)**0.666666666666667/x - 194.491709063869*(6.17961578740273*(1/x)**0.666666666666667 - 1.0)**2.0*(1/x)**0.666666666666667/x\n",
    "    return -y"
   ]
  },
  {
   "cell_type": "code",
   "execution_count": null,
   "metadata": {},
   "outputs": [],
   "source": []
  },
  {
   "cell_type": "code",
   "execution_count": 194,
   "metadata": {},
   "outputs": [],
   "source": [
    "def G_diam(x):\n",
    "    return -x*(60.4416106992898*(-30.0711369976133*(1/x)**0.666666666666667 + 6.0)*(7.51778424940333*(1/x)**0.666666666666667 - 1.0)**1.0*(1/x)**0.666666666666667/x + 246.990115799413*(7.51778424940333*(1/x)**0.666666666666667 - 1.0)**2.0*(1/x)**0.666666666666667/x) + 6.02986285860294*(-30.0711369976133*(1/x)**0.666666666666667 + 6.0)*(7.51778424940333*(1/x)**0.666666666666667 - 1.0)**2.0 + 24.4668724848808*(7.51778424940333*(1/x)**0.666666666666667 - 1.0)**3.0 - 5.41994731532317"
   ]
  },
  {
   "cell_type": "code",
   "execution_count": 266,
   "metadata": {},
   "outputs": [
    {
     "data": {
      "image/png": "[encoded data removed]",
      "text/plain": [
       "<Figure size 360x360 with 1 Axes>"
      ]
     },
     "metadata": {
      "needs_background": "light"
     },
     "output_type": "display_data"
    }
   ],
   "source": [
    "%matplotlib inline\n",
    "fig=plt.figure(figsize=(5,5))\n",
    "ax=plt.subplot(111)\n",
    "plt.plot(xfit,diam_fit+diam_fit*xfit,'k',linestyle='solid',label='diamante')\n",
    "# plt.plot(xfit,diam_fit+diam_fit*xfit,'k',linestyle='solid',label='diamante')\n",
    "plt.plot(xfit,BT_fit+BT_fit*xfit,'r',linestyle='solid',label=r'$\\beta$-tin')\n",
    "plt.legend(bbox_to_anchor=(0.95, 0.95), loc='upper right', borderaxespad=0.)\n",
    "plt.ylabel('Energía de Gibbs (eV)',labelpad=10)\n",
    "plt.xlabel(r'Volumen (\\AA$^3$)',labelpad=10)\n",
    "ax.xaxis.set_major_locator(mticker.MultipleLocator(10));\n",
    "ax.xaxis.set_minor_locator(mticker.MultipleLocator(2));\n",
    "ax.yaxis.set_major_locator(mticker.MultipleLocator(100));\n",
    "ax.yaxis.set_minor_locator(mticker.MultipleLocator(20));\n",
    "ax.tick_params(direction='in',which='major',length=8,bottom=True, top=True, left=True, right=True);\n",
    "ax.tick_params(direction='in',which='minor',length=5,bottom=True, top=True, left=True, right=True);\n",
    "plt.savefig(\"punto6.eps\",bbox_inches='tight')\n",
    "plt.show()"
   ]
  },
  {
   "cell_type": "code",
   "execution_count": 220,
   "metadata": {},
   "outputs": [],
   "source": [
    "eps=diam_fit+diam_fit*xfit-(BT_fit+BT_fit*xfit)"
   ]
  },
  {
   "cell_type": "code",
   "execution_count": 221,
   "metadata": {},
   "outputs": [
    {
     "name": "stdout",
     "output_type": "stream",
     "text": [
      "16.648116481164813\n",
      "16.648366483664837\n"
     ]
    }
   ],
   "source": [
    "for i in range(npts):\n",
    "    if (eps[i] < 0.001) & (eps[i]>-0.001):\n",
    "        print(xfit[i])"
   ]
  },
  {
   "cell_type": "code",
   "execution_count": 210,
   "metadata": {},
   "outputs": [
    {
     "name": "stdout",
     "output_type": "stream",
     "text": [
      "Using matplotlib backend: Qt5Agg\n"
     ]
    }
   ],
   "source": [
    "%matplotlib auto\n",
    "plt.plot(xfit,eps)\n",
    "plt.show()"
   ]
  },
  {
   "cell_type": "code",
   "execution_count": null,
   "metadata": {},
   "outputs": [],
   "source": []
  },
  {
   "cell_type": "code",
   "execution_count": null,
   "metadata": {},
   "outputs": [],
   "source": []
  },
  {
   "cell_type": "code",
   "execution_count": 230,
   "metadata": {},
   "outputs": [],
   "source": [
    "x=Symbol('x')\n",
    "E0D=Symbol('E0D')\n",
    "B0D=Symbol('B0D')\n",
    "V0D=Symbol('V0D')\n",
    "B0pD=Symbol('B0pD')\n",
    "E0b=Symbol('E0b')\n",
    "B0b=Symbol('B0b')\n",
    "V0b=Symbol('V0b')\n",
    "B0pb=Symbol('B0pb')\n",
    "Ediam=Birch_Murnaghan(x,E0D,B0D,V0D,B0pD)\n",
    "dEdiam=-Ediam.diff(x)\n",
    "Ebeta=Birch_Murnaghan(x,E0b,B0b,V0b,B0pb)\n",
    "dEbeta=-Ebeta.diff(x)\n",
    "fgdiam=Ediam+dEdiam*x\n",
    "fgbeta=Ebeta+dEbeta*x"
   ]
  },
  {
   "cell_type": "code",
   "execution_count": 241,
   "metadata": {},
   "outputs": [],
   "source": [
    "eps=fgdiam-fgbeta"
   ]
  },
  {
   "cell_type": "code",
   "execution_count": 242,
   "metadata": {},
   "outputs": [
    {
     "data": {
      "text/plain": [
       "-0.5625*B0D*V0D*(V0D/x)**0.666666666666667*(-2.0*B0pD*((V0D/x)**0.666666666666667 - 1.0)**2.0 + ((V0D/x)**0.666666666666667 - 1.0)**1.0*(5.33333333333333*(V0D/x)**0.666666666666667 - 8.0) + 2.66666666666667*((V0D/x)**0.666666666666667 - 1.0)**2.0) + 0.5625*B0D*V0D*(B0pD*((V0D/x)**0.666666666666667 - 1.0)**3.0 - ((V0D/x)**0.666666666666667 - 1.0)**2.0*(4.0*(V0D/x)**0.666666666666667 - 6.0)) + 0.5625*B0b*V0b*(V0b/x)**0.666666666666667*(-2.0*B0pb*((V0b/x)**0.666666666666667 - 1.0)**2.0 + ((V0b/x)**0.666666666666667 - 1.0)**1.0*(5.33333333333333*(V0b/x)**0.666666666666667 - 8.0) + 2.66666666666667*((V0b/x)**0.666666666666667 - 1.0)**2.0) - 0.5625*B0b*V0b*(B0pb*((V0b/x)**0.666666666666667 - 1.0)**3.0 - ((V0b/x)**0.666666666666667 - 1.0)**2.0*(4.0*(V0b/x)**0.666666666666667 - 6.0)) + E0D - E0b"
      ]
     },
     "execution_count": 242,
     "metadata": {},
     "output_type": "execute_result"
    }
   ],
   "source": [
    "sym.simplify(eps)"
   ]
  },
  {
   "cell_type": "code",
   "execution_count": 256,
   "metadata": {},
   "outputs": [],
   "source": [
    "def feps(x,E0D,B0D,V0D,B0pD,E0b,B0b,V0b,B0pb):\n",
    "    return -0.5625*B0D*V0D*(V0D/x)**0.666666666666667*(-2.0*B0pD*((V0D/x)**0.666666666666667 - 1.0)**2.0 + ((V0D/x)**0.666666666666667 - 1.0)**1.0*(5.33333333333333*(V0D/x)**0.666666666666667 - 8.0) + 2.66666666666667*((V0D/x)**0.666666666666667 - 1.0)**2.0) + 0.5625*B0D*V0D*(B0pD*((V0D/x)**0.666666666666667 - 1.0)**3.0 - ((V0D/x)**0.666666666666667 - 1.0)**2.0*(4.0*(V0D/x)**0.666666666666667 - 6.0)) + 0.5625*B0b*V0b*(V0b/x)**0.666666666666667*(-2.0*B0pb*((V0b/x)**0.666666666666667 - 1.0)**2.0 + ((V0b/x)**0.666666666666667 - 1.0)**1.0*(5.33333333333333*(V0b/x)**0.666666666666667 - 8.0) + 2.66666666666667*((V0b/x)**0.666666666666667 - 1.0)**2.0) - 0.5625*B0b*V0b*(B0pb*((V0b/x)**0.666666666666667 - 1.0)**3.0 - ((V0b/x)**0.666666666666667 - 1.0)**2.0*(4.0*(V0b/x)**0.666666666666667 - 6.0)) + E0D - E0b"
   ]
  },
  {
   "cell_type": "code",
   "execution_count": 247,
   "metadata": {},
   "outputs": [],
   "source": [
    "neweps=feps(x,diamparams[0],diamparams[1],diamparams[2],diamparams[3],BTparams[0],BTparams[1],BTparams[2],BTparams[3])\n",
    "simplifyeps=sym.simplify(neweps)"
   ]
  },
  {
   "cell_type": "code",
   "execution_count": null,
   "metadata": {},
   "outputs": [],
   "source": []
  },
  {
   "cell_type": "code",
   "execution_count": null,
   "metadata": {},
   "outputs": [],
   "source": []
  },
  {
   "cell_type": "code",
   "execution_count": null,
   "metadata": {},
   "outputs": [],
   "source": []
  },
  {
   "cell_type": "code",
   "execution_count": 260,
   "metadata": {},
   "outputs": [
    {
     "data": {
      "text/plain": [
       "-5.136242080180033"
      ]
     },
     "execution_count": 260,
     "metadata": {},
     "output_type": "execute_result"
    }
   ],
   "source": [
    "Birch_Murnaghan(16.6482,\n",
    "     diamparams[0],diamparams[1],diamparams[2],diamparams[3])"
   ]
  },
  {
   "cell_type": "code",
   "execution_count": 264,
   "metadata": {},
   "outputs": [
    {
     "data": {
      "text/plain": [
       "-5.136269273514411"
      ]
     },
     "execution_count": 264,
     "metadata": {},
     "output_type": "execute_result"
    }
   ],
   "source": [
    "Birch_Murnaghan(16.6482,\n",
    "     BTparams[0],BTparams[1],BTparams[2],BTparams[3])"
   ]
  },
  {
   "cell_type": "code",
   "execution_count": null,
   "metadata": {},
   "outputs": [],
   "source": []
  },
  {
   "cell_type": "code",
   "execution_count": null,
   "metadata": {},
   "outputs": [],
   "source": []
  }
 ],
 "metadata": {
  "kernelspec": {
   "display_name": "Python 3",
   "language": "python",
   "name": "python3"
  },
  "language_info": {
   "codemirror_mode": {
    "name": "ipython",
    "version": 3
   },
   "file_extension": ".py",
   "mimetype": "text/x-python",
   "name": "python",
   "nbconvert_exporter": "python",
   "pygments_lexer": "ipython3",
   "version": "3.7.1"
  }
 },
 "nbformat": 4,
 "nbformat_minor": 2
}
